{
 "cells": [
  {
   "cell_type": "markdown",
   "id": "c7a95bfa",
   "metadata": {},
   "source": [
    "## Simple Dask Client Demo"
   ]
  },
  {
   "cell_type": "markdown",
   "id": "ba957085",
   "metadata": {},
   "source": [
    "### Simple Code"
   ]
  },
  {
   "cell_type": "code",
   "execution_count": null,
   "id": "89a351a0-83ec-4ad4-9cef-a9a31d8296bf",
   "metadata": {},
   "outputs": [],
   "source": [
    "from time import sleep\n",
    "\n",
    "def inc(x):\n",
    "    sleep(1)\n",
    "    return x + 1\n",
    "\n",
    "def add(x, y):\n",
    "    sleep(1)\n",
    "    return x + y"
   ]
  },
  {
   "cell_type": "code",
   "execution_count": null,
   "id": "960cff2f-b6d8-4213-a504-933b0af115c5",
   "metadata": {},
   "outputs": [],
   "source": [
    "%%time\n",
    "# This takes three seconds to run because we call each\n",
    "# function sequentially, one after the other\n",
    "\n",
    "x = inc(1)\n",
    "y = inc(2)\n",
    "z = add(x, y)"
   ]
  },
  {
   "cell_type": "markdown",
   "id": "152b37c4",
   "metadata": {},
   "source": []
  },
  {
   "cell_type": "markdown",
   "id": "d62e1309",
   "metadata": {},
   "source": [
    "### Parallelize with the <i><small>dask.delayed</small></i> decorator"
   ]
  },
  {
   "cell_type": "markdown",
   "id": "45eedc21",
   "metadata": {},
   "source": []
  },
  {
   "cell_type": "code",
   "execution_count": null,
   "id": "edc18a17",
   "metadata": {},
   "outputs": [
    {
     "name": "stderr",
     "output_type": "stream",
     "text": [
      "distributed.client - ERROR - Failed to reconnect to scheduler after 30.00 seconds, closing client\n",
      "_GatheringFuture exception was never retrieved\n",
      "future: <_GatheringFuture finished exception=CancelledError()>\n",
      "asyncio.exceptions.CancelledError\n"
     ]
    }
   ],
   "source": [
    "from dask import delayed\n",
    "from dask.distributed import Client\n",
    "\n",
    "client = Client(\"172.24.201.182:8786\")"
   ]
  },
  {
   "cell_type": "code",
   "execution_count": null,
   "id": "5e0d5ba8",
   "metadata": {},
   "outputs": [],
   "source": [
    "%%time\n",
    "# This runs immediately, all it does is build a graph\n",
    "\n",
    "x = delayed(inc)(1)\n",
    "y = delayed(inc)(2)\n",
    "z = delayed(add)(x, y)"
   ]
  },
  {
   "cell_type": "markdown",
   "id": "ca35769f",
   "metadata": {},
   "source": [
    "### Compute the real value"
   ]
  },
  {
   "cell_type": "code",
   "execution_count": null,
   "id": "0671d8b6",
   "metadata": {},
   "outputs": [],
   "source": [
    "%%time\n",
    "# This actually runs our computation using a local thread pool\n",
    "\n",
    "z.compute()"
   ]
  },
  {
   "cell_type": "markdown",
   "id": "4788af8d",
   "metadata": {},
   "source": [
    "### Type Delayed"
   ]
  },
  {
   "cell_type": "code",
   "execution_count": null,
   "id": "9d5c49ab",
   "metadata": {},
   "outputs": [],
   "source": [
    "z"
   ]
  },
  {
   "cell_type": "markdown",
   "id": "2712878d",
   "metadata": {},
   "source": [
    "### View the exec plan"
   ]
  },
  {
   "cell_type": "code",
   "execution_count": null,
   "id": "a38bf1e3",
   "metadata": {},
   "outputs": [],
   "source": [
    "# Look at the task graph for `z`\n",
    "z.visualize()"
   ]
  },
  {
   "cell_type": "markdown",
   "id": "64cf3f3a",
   "metadata": {},
   "source": [
    "### Parallelize a for loop"
   ]
  },
  {
   "cell_type": "code",
   "execution_count": null,
   "id": "ab269851",
   "metadata": {},
   "outputs": [],
   "source": [
    "# Data \n",
    "data = [1, 2, 3, 4, 5, 6, 7, 8]"
   ]
  },
  {
   "cell_type": "code",
   "execution_count": null,
   "id": "9780e0bc",
   "metadata": {},
   "outputs": [],
   "source": [
    "%%time\n",
    "# Sequential code\n",
    "\n",
    "results = []\n",
    "for x in data:\n",
    "    y = inc(x)\n",
    "    results.append(y)\n",
    "\n",
    "total = sum(results)"
   ]
  },
  {
   "cell_type": "code",
   "execution_count": null,
   "id": "6de56617",
   "metadata": {},
   "outputs": [],
   "source": [
    "# Get Total value\n",
    "total"
   ]
  },
  {
   "cell_type": "code",
   "execution_count": null,
   "id": "95659c71",
   "metadata": {},
   "outputs": [],
   "source": [
    "%%time\n",
    "# Parallel code\n",
    "results = []\n",
    "\n",
    "for x in data:\n",
    "    y = delayed(inc)(x)\n",
    "    results.append(y)\n",
    "\n",
    "total = delayed(sum)(results)\n",
    "print(\"Before computing:\", total)  # Let's see what type of thing total is\n",
    "result = total.compute()\n",
    "print(\"After computing :\", result)  # After it's computed"
   ]
  },
  {
   "cell_type": "code",
   "execution_count": null,
   "id": "79557ec2",
   "metadata": {},
   "outputs": [],
   "source": [
    "# Delayed \n",
    "total"
   ]
  },
  {
   "cell_type": "code",
   "execution_count": null,
   "id": "c03b74ae",
   "metadata": {},
   "outputs": [],
   "source": [
    "# Look at the task graph for `total`\n",
    "total.visualize()"
   ]
  },
  {
   "cell_type": "markdown",
   "id": "864e84b6",
   "metadata": {},
   "source": [
    "### Parallelize a for loop with control flow"
   ]
  },
  {
   "cell_type": "code",
   "execution_count": null,
   "id": "8c8cd5e4",
   "metadata": {},
   "outputs": [],
   "source": [
    "def double(x):\n",
    "    sleep(1)\n",
    "    return 2 * x\n",
    "\n",
    "def is_even(x):\n",
    "    return not x % 2\n",
    "\n",
    "data = [1, 2, 3, 4, 5, 6, 7, 8, 9, 10]\n"
   ]
  },
  {
   "cell_type": "code",
   "execution_count": null,
   "id": "fc40c7b6",
   "metadata": {},
   "outputs": [],
   "source": [
    "%%time\n",
    "# Sequential code\n",
    "\n",
    "results = []\n",
    "for x in data:\n",
    "    if is_even(x):\n",
    "        y = double(x)\n",
    "    else:\n",
    "        y = inc(x)\n",
    "    results.append(y)\n",
    "\n",
    "total = sum(results)\n",
    "print(total)"
   ]
  },
  {
   "cell_type": "code",
   "execution_count": null,
   "id": "206ded04",
   "metadata": {},
   "outputs": [],
   "source": [
    "%%time\n",
    "results = []\n",
    "for x in data:\n",
    "    if is_even(x):  # even\n",
    "        y = delayed(double)(x)\n",
    "    else:          # odd\n",
    "        y = delayed(inc)(x)\n",
    "    results.append(y)\n",
    "\n",
    "total = delayed(sum)(results)"
   ]
  },
  {
   "cell_type": "code",
   "execution_count": null,
   "id": "41a9e567",
   "metadata": {},
   "outputs": [],
   "source": [
    "%time total.compute()"
   ]
  },
  {
   "cell_type": "code",
   "execution_count": null,
   "id": "ea208f5c",
   "metadata": {},
   "outputs": [],
   "source": [
    "total.visualize()"
   ]
  }
 ],
 "metadata": {
  "kernelspec": {
   "display_name": "Python 3.9.7 ('base')",
   "language": "python",
   "name": "python3"
  },
  "language_info": {
   "codemirror_mode": {
    "name": "ipython",
    "version": 3
   },
   "file_extension": ".py",
   "mimetype": "text/x-python",
   "name": "python",
   "nbconvert_exporter": "python",
   "pygments_lexer": "ipython3",
   "version": "3.9.7"
  },
  "vscode": {
   "interpreter": {
    "hash": "8283eda662aa243e74d8be529a54d74bb9bd8f05a40b3d587b3f76fd96b29feb"
   }
  }
 },
 "nbformat": 4,
 "nbformat_minor": 5
}
