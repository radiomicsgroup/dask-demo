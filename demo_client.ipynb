{
 "cells": [
  {
   "cell_type": "markdown",
   "id": "c7a95bfa",
   "metadata": {},
   "source": [
    "## Simple Dask Client Demo"
   ]
  },
  {
   "cell_type": "markdown",
   "id": "ba957085",
   "metadata": {},
   "source": [
    "### Simple Code"
   ]
  },
  {
   "cell_type": "code",
   "execution_count": 1,
   "id": "89a351a0-83ec-4ad4-9cef-a9a31d8296bf",
   "metadata": {},
   "outputs": [],
   "source": [
    "from time import sleep\n",
    "\n",
    "def inc(x):\n",
    "    sleep(1)\n",
    "    return x + 1\n",
    "\n",
    "def add(x, y):\n",
    "    sleep(1)\n",
    "    return x + y"
   ]
  },
  {
   "cell_type": "code",
   "execution_count": 2,
   "id": "960cff2f-b6d8-4213-a504-933b0af115c5",
   "metadata": {},
   "outputs": [
    {
     "name": "stdout",
     "output_type": "stream",
     "text": [
      "CPU times: user 2.09 ms, sys: 222 µs, total: 2.31 ms\n",
      "Wall time: 3 s\n"
     ]
    }
   ],
   "source": [
    "%%time\n",
    "# This takes three seconds to run because we call each\n",
    "# function sequentially, one after the other\n",
    "\n",
    "x = inc(1)\n",
    "y = inc(2)\n",
    "z = add(x, y)"
   ]
  },
  {
   "cell_type": "markdown",
   "id": "152b37c4",
   "metadata": {},
   "source": []
  },
  {
   "cell_type": "markdown",
   "id": "d62e1309",
   "metadata": {},
   "source": [
    "### Parallelize with the <i><small>dask.delayed</small></i> decorator"
   ]
  },
  {
   "cell_type": "markdown",
   "id": "45eedc21",
   "metadata": {},
   "source": []
  },
  {
   "cell_type": "code",
   "execution_count": 3,
   "id": "edc18a17",
   "metadata": {},
   "outputs": [
    {
     "name": "stderr",
     "output_type": "stream",
     "text": [
      "/home/kmilo/anaconda3/envs/dask/lib/python3.8/site-packages/distributed/client.py:1274: VersionMismatchWarning: Mismatched versions found\n",
      "\n",
      "+---------+---------------+---------------+-------------------------------------+\n",
      "| Package | client        | scheduler     | workers                             |\n",
      "+---------+---------------+---------------+-------------------------------------+\n",
      "| numpy   | 1.22.3        | 1.22.3        | {'1.21.5', '1.22.3'}                |\n",
      "| python  | 3.8.5.final.0 | 3.8.5.final.0 | {'3.8.5.final.0', '3.9.12.final.0'} |\n",
      "+---------+---------------+---------------+-------------------------------------+\n",
      "  warnings.warn(version_module.VersionMismatchWarning(msg[0][\"warning\"]))\n"
     ]
    }
   ],
   "source": [
    "from dask import delayed\n",
    "from dask.distributed import Client\n",
    "\n",
    "client = Client(\"172.17.146.21:8786\")"
   ]
  },
  {
   "cell_type": "code",
   "execution_count": 4,
   "id": "5e0d5ba8",
   "metadata": {},
   "outputs": [
    {
     "name": "stdout",
     "output_type": "stream",
     "text": [
      "CPU times: user 1.65 ms, sys: 879 µs, total: 2.53 ms\n",
      "Wall time: 1.24 ms\n"
     ]
    }
   ],
   "source": [
    "%%time\n",
    "# This runs immediately, all it does is build a graph\n",
    "\n",
    "x = delayed(inc)(1)\n",
    "y = delayed(inc)(2)\n",
    "z = delayed(add)(x, y)"
   ]
  },
  {
   "cell_type": "markdown",
   "id": "ca35769f",
   "metadata": {},
   "source": [
    "### Compute the real value"
   ]
  },
  {
   "cell_type": "code",
   "execution_count": 5,
   "id": "0671d8b6",
   "metadata": {},
   "outputs": [
    {
     "name": "stdout",
     "output_type": "stream",
     "text": [
      "CPU times: user 56.7 ms, sys: 17.3 ms, total: 74 ms\n",
      "Wall time: 2.09 s\n"
     ]
    },
    {
     "data": {
      "text/plain": [
       "5"
      ]
     },
     "execution_count": 5,
     "metadata": {},
     "output_type": "execute_result"
    }
   ],
   "source": [
    "%%time\n",
    "# This actually runs our computation using a local thread pool\n",
    "\n",
    "z.compute()"
   ]
  },
  {
   "cell_type": "markdown",
   "id": "4788af8d",
   "metadata": {},
   "source": [
    "### Type Delayed"
   ]
  },
  {
   "cell_type": "code",
   "execution_count": 6,
   "id": "9d5c49ab",
   "metadata": {},
   "outputs": [
    {
     "data": {
      "text/plain": [
       "Delayed('add-87fc9180-e409-41e7-a470-1c41ebf3730d')"
      ]
     },
     "execution_count": 6,
     "metadata": {},
     "output_type": "execute_result"
    }
   ],
   "source": [
    "z"
   ]
  },
  {
   "cell_type": "markdown",
   "id": "2712878d",
   "metadata": {},
   "source": [
    "### View the exec plan"
   ]
  },
  {
   "cell_type": "code",
   "execution_count": 7,
   "id": "a38bf1e3",
   "metadata": {},
   "outputs": [
    {
     "data": {
      "image/svg+xml": "<svg xmlns=\"http://www.w3.org/2000/svg\" xmlns:xlink=\"http://www.w3.org/1999/xlink\" width=\"134pt\" height=\"292pt\" viewBox=\"0.00 0.00 134.00 291.99\">\n<g id=\"graph0\" class=\"graph\" transform=\"scale(1 1) rotate(0) translate(4 287.99)\">\n<title>%3</title>\n<polygon fill=\"white\" stroke=\"transparent\" points=\"-4,4 -4,-287.99 130,-287.99 130,4 -4,4\"/>\n<!-- 7223487581751561886 -->\n<g id=\"node1\" class=\"node\">\n<title>7223487581751561886</title>\n<ellipse fill=\"none\" stroke=\"black\" cx=\"63\" cy=\"-184.04\" rx=\"27.9\" ry=\"27.9\"/>\n<text text-anchor=\"middle\" x=\"63\" y=\"-180.34\" font-family=\"Helvetica,sans-Serif\" font-size=\"14.00\">add</text>\n</g>\n<!-- &#45;5214808742893227379 -->\n<g id=\"node2\" class=\"node\">\n<title>-5214808742893227379</title>\n<polygon fill=\"none\" stroke=\"black\" points=\"90,-283.99 36,-283.99 36,-247.99 90,-247.99 90,-283.99\"/>\n</g>\n<!-- 7223487581751561886&#45;&gt;&#45;5214808742893227379 -->\n<g id=\"edge1\" class=\"edge\">\n<title>7223487581751561886-&gt;-5214808742893227379</title>\n<path fill=\"none\" stroke=\"black\" d=\"M63,-212.11C63,-220.3 63,-229.3 63,-237.51\"/>\n<polygon fill=\"black\" stroke=\"black\" points=\"59.5,-237.73 63,-247.73 66.5,-237.73 59.5,-237.73\"/>\n</g>\n<!-- 4181422870676644552 -->\n<g id=\"node3\" class=\"node\">\n<title>4181422870676644552</title>\n<polygon fill=\"none\" stroke=\"black\" points=\"54,-120.1 0,-120.1 0,-84.1 54,-84.1 54,-120.1\"/>\n</g>\n<!-- 4181422870676644552&#45;&gt;7223487581751561886 -->\n<g id=\"edge2\" class=\"edge\">\n<title>4181422870676644552-&gt;7223487581751561886</title>\n<path fill=\"none\" stroke=\"black\" d=\"M34.81,-120.44C38.57,-128.8 43.22,-139.11 47.65,-148.95\"/>\n<polygon fill=\"black\" stroke=\"black\" points=\"44.49,-150.46 51.79,-158.14 50.87,-147.59 44.49,-150.46\"/>\n</g>\n<!-- 6915014840479001822 -->\n<g id=\"node4\" class=\"node\">\n<title>6915014840479001822</title>\n<polygon fill=\"none\" stroke=\"black\" points=\"126,-120.1 72,-120.1 72,-84.1 126,-84.1 126,-120.1\"/>\n</g>\n<!-- 6915014840479001822&#45;&gt;7223487581751561886 -->\n<g id=\"edge3\" class=\"edge\">\n<title>6915014840479001822-&gt;7223487581751561886</title>\n<path fill=\"none\" stroke=\"black\" d=\"M91.19,-120.44C87.43,-128.8 82.78,-139.11 78.35,-148.95\"/>\n<polygon fill=\"black\" stroke=\"black\" points=\"75.13,-147.59 74.21,-158.14 81.51,-150.46 75.13,-147.59\"/>\n</g>\n<!-- &#45;5720422093779307448 -->\n<g id=\"node5\" class=\"node\">\n<title>-5720422093779307448</title>\n<ellipse fill=\"none\" stroke=\"black\" cx=\"27\" cy=\"-24.05\" rx=\"24.1\" ry=\"24.1\"/>\n<text text-anchor=\"middle\" x=\"27\" y=\"-20.35\" font-family=\"Helvetica,sans-Serif\" font-size=\"14.00\">inc</text>\n</g>\n<!-- &#45;5720422093779307448&#45;&gt;4181422870676644552 -->\n<g id=\"edge4\" class=\"edge\">\n<title>-5720422093779307448-&gt;4181422870676644552</title>\n<path fill=\"none\" stroke=\"black\" d=\"M27,-48.28C27,-56.39 27,-65.56 27,-73.96\"/>\n<polygon fill=\"black\" stroke=\"black\" points=\"23.5,-74.04 27,-84.04 30.5,-74.04 23.5,-74.04\"/>\n</g>\n<!-- &#45;2598026354326730662 -->\n<g id=\"node6\" class=\"node\">\n<title>-2598026354326730662</title>\n<ellipse fill=\"none\" stroke=\"black\" cx=\"99\" cy=\"-24.05\" rx=\"24.1\" ry=\"24.1\"/>\n<text text-anchor=\"middle\" x=\"99\" y=\"-20.35\" font-family=\"Helvetica,sans-Serif\" font-size=\"14.00\">inc</text>\n</g>\n<!-- &#45;2598026354326730662&#45;&gt;6915014840479001822 -->\n<g id=\"edge5\" class=\"edge\">\n<title>-2598026354326730662-&gt;6915014840479001822</title>\n<path fill=\"none\" stroke=\"black\" d=\"M99,-48.28C99,-56.39 99,-65.56 99,-73.96\"/>\n<polygon fill=\"black\" stroke=\"black\" points=\"95.5,-74.04 99,-84.04 102.5,-74.04 95.5,-74.04\"/>\n</g>\n</g>\n</svg>",
      "text/plain": [
       "<IPython.core.display.SVG object>"
      ]
     },
     "execution_count": 7,
     "metadata": {},
     "output_type": "execute_result"
    }
   ],
   "source": [
    "# Look at the task graph for `z`\n",
    "z.visualize(filename='demo_client1.svg')"
   ]
  },
  {
   "cell_type": "markdown",
   "id": "64cf3f3a",
   "metadata": {},
   "source": [
    "### Parallelize a for loop"
   ]
  },
  {
   "cell_type": "code",
   "execution_count": 8,
   "id": "ab269851",
   "metadata": {},
   "outputs": [],
   "source": [
    "# Data \n",
    "data = [1, 2, 3, 4, 5, 6, 7, 8]"
   ]
  },
  {
   "cell_type": "code",
   "execution_count": 9,
   "id": "9780e0bc",
   "metadata": {},
   "outputs": [
    {
     "name": "stdout",
     "output_type": "stream",
     "text": [
      "CPU times: user 8.95 ms, sys: 0 ns, total: 8.95 ms\n",
      "Wall time: 8.01 s\n"
     ]
    }
   ],
   "source": [
    "%%time\n",
    "# Sequential code\n",
    "\n",
    "results = []\n",
    "for x in data:\n",
    "    y = inc(x)\n",
    "    results.append(y)\n",
    "\n",
    "total = sum(results)"
   ]
  },
  {
   "cell_type": "code",
   "execution_count": 10,
   "id": "6de56617",
   "metadata": {},
   "outputs": [
    {
     "data": {
      "text/plain": [
       "44"
      ]
     },
     "execution_count": 10,
     "metadata": {},
     "output_type": "execute_result"
    }
   ],
   "source": [
    "# Get Total value\n",
    "total"
   ]
  },
  {
   "cell_type": "code",
   "execution_count": 11,
   "id": "95659c71",
   "metadata": {},
   "outputs": [
    {
     "name": "stdout",
     "output_type": "stream",
     "text": [
      "Before computing: Delayed('sum-1c96463e-149f-4ed5-bdda-36deb790b1a8')\n",
      "After computing : 44\n",
      "CPU times: user 14.9 ms, sys: 2.14 ms, total: 17 ms\n",
      "Wall time: 1.03 s\n"
     ]
    }
   ],
   "source": [
    "%%time\n",
    "# Parallel code\n",
    "results = []\n",
    "\n",
    "for x in data:\n",
    "    y = delayed(inc)(x)\n",
    "    results.append(y)\n",
    "\n",
    "total = delayed(sum)(results)\n",
    "print(\"Before computing:\", total)  # Let's see what type of thing total is\n",
    "result = total.compute()\n",
    "print(\"After computing :\", result)  # After it's computed"
   ]
  },
  {
   "cell_type": "code",
   "execution_count": 12,
   "id": "79557ec2",
   "metadata": {},
   "outputs": [
    {
     "data": {
      "text/plain": [
       "Delayed('sum-1c96463e-149f-4ed5-bdda-36deb790b1a8')"
      ]
     },
     "execution_count": 12,
     "metadata": {},
     "output_type": "execute_result"
    }
   ],
   "source": [
    "# Delayed \n",
    "total"
   ]
  },
  {
   "cell_type": "code",
   "execution_count": 13,
   "id": "c03b74ae",
   "metadata": {},
   "outputs": [
    {
     "data": {
      "image/svg+xml": "<svg xmlns=\"http://www.w3.org/2000/svg\" xmlns:xlink=\"http://www.w3.org/1999/xlink\" width=\"566pt\" height=\"297pt\" viewBox=\"0.00 0.00 566.00 297.19\">\n<g id=\"graph0\" class=\"graph\" transform=\"scale(1 1) rotate(0) translate(4 293.19)\">\n<title>%3</title>\n<polygon fill=\"white\" stroke=\"transparent\" points=\"-4,4 -4,-293.19 562,-293.19 562,4 -4,4\"/>\n<!-- &#45;6600777697835951251 -->\n<g id=\"node1\" class=\"node\">\n<title>-6600777697835951251</title>\n<ellipse fill=\"none\" stroke=\"black\" cx=\"279\" cy=\"-186.64\" rx=\"30.59\" ry=\"30.59\"/>\n<text text-anchor=\"middle\" x=\"279\" y=\"-182.94\" font-family=\"Helvetica,sans-Serif\" font-size=\"14.00\">sum</text>\n</g>\n<!-- &#45;499407946688359500 -->\n<g id=\"node2\" class=\"node\">\n<title>-499407946688359500</title>\n<polygon fill=\"none\" stroke=\"black\" points=\"306,-289.19 252,-289.19 252,-253.19 306,-253.19 306,-289.19\"/>\n</g>\n<!-- &#45;6600777697835951251&#45;&gt;&#45;499407946688359500 -->\n<g id=\"edge1\" class=\"edge\">\n<title>-6600777697835951251-&gt;-499407946688359500</title>\n<path fill=\"none\" stroke=\"black\" d=\"M279,-217.44C279,-225.79 279,-234.82 279,-243.01\"/>\n<polygon fill=\"black\" stroke=\"black\" points=\"275.5,-243.16 279,-253.16 282.5,-243.16 275.5,-243.16\"/>\n</g>\n<!-- 5018464158114486017 -->\n<g id=\"node3\" class=\"node\">\n<title>5018464158114486017</title>\n<polygon fill=\"none\" stroke=\"black\" points=\"54,-120.1 0,-120.1 0,-84.1 54,-84.1 54,-120.1\"/>\n</g>\n<!-- 5018464158114486017&#45;&gt;&#45;6600777697835951251 -->\n<g id=\"edge2\" class=\"edge\">\n<title>5018464158114486017-&gt;-6600777697835951251</title>\n<path fill=\"none\" stroke=\"black\" d=\"M54.34,-116.51C57.24,-117.78 60.16,-119 63,-120.1 123.55,-143.44 196.15,-164.01 239.87,-175.63\"/>\n<polygon fill=\"black\" stroke=\"black\" points=\"238.98,-179.01 249.54,-178.18 240.77,-172.24 238.98,-179.01\"/>\n</g>\n<!-- 2340764281520043970 -->\n<g id=\"node4\" class=\"node\">\n<title>2340764281520043970</title>\n<polygon fill=\"none\" stroke=\"black\" points=\"126,-120.1 72,-120.1 72,-84.1 126,-84.1 126,-120.1\"/>\n</g>\n<!-- 2340764281520043970&#45;&gt;&#45;6600777697835951251 -->\n<g id=\"edge3\" class=\"edge\">\n<title>2340764281520043970-&gt;-6600777697835951251</title>\n<path fill=\"none\" stroke=\"black\" d=\"M126.11,-115.95C129.11,-117.35 132.12,-118.76 135,-120.1 171.27,-136.91 212.84,-155.8 241.97,-168.96\"/>\n<polygon fill=\"black\" stroke=\"black\" points=\"240.79,-172.27 251.34,-173.19 243.67,-165.89 240.79,-172.27\"/>\n</g>\n<!-- &#45;9106583336801446778 -->\n<g id=\"node5\" class=\"node\">\n<title>-9106583336801446778</title>\n<polygon fill=\"none\" stroke=\"black\" points=\"198,-120.1 144,-120.1 144,-84.1 198,-84.1 198,-120.1\"/>\n</g>\n<!-- &#45;9106583336801446778&#45;&gt;&#45;6600777697835951251 -->\n<g id=\"edge4\" class=\"edge\">\n<title>-9106583336801446778-&gt;-6600777697835951251</title>\n<path fill=\"none\" stroke=\"black\" d=\"M193.38,-120.2C208.88,-132.05 229.76,-148 247.01,-161.19\"/>\n<polygon fill=\"black\" stroke=\"black\" points=\"245.08,-164.12 255.15,-167.42 249.33,-158.56 245.08,-164.12\"/>\n</g>\n<!-- &#45;7065892744171127639 -->\n<g id=\"node6\" class=\"node\">\n<title>-7065892744171127639</title>\n<polygon fill=\"none\" stroke=\"black\" points=\"270,-120.1 216,-120.1 216,-84.1 270,-84.1 270,-120.1\"/>\n</g>\n<!-- &#45;7065892744171127639&#45;&gt;&#45;6600777697835951251 -->\n<g id=\"edge5\" class=\"edge\">\n<title>-7065892744171127639-&gt;-6600777697835951251</title>\n<path fill=\"none\" stroke=\"black\" d=\"M250.46,-120.2C254.08,-128.5 258.58,-138.82 262.93,-148.79\"/>\n<polygon fill=\"black\" stroke=\"black\" points=\"259.81,-150.4 267.02,-158.16 266.23,-147.6 259.81,-150.4\"/>\n</g>\n<!-- 6765930492377850090 -->\n<g id=\"node7\" class=\"node\">\n<title>6765930492377850090</title>\n<polygon fill=\"none\" stroke=\"black\" points=\"342,-120.1 288,-120.1 288,-84.1 342,-84.1 342,-120.1\"/>\n</g>\n<!-- 6765930492377850090&#45;&gt;&#45;6600777697835951251 -->\n<g id=\"edge6\" class=\"edge\">\n<title>6765930492377850090-&gt;-6600777697835951251</title>\n<path fill=\"none\" stroke=\"black\" d=\"M307.54,-120.2C303.92,-128.5 299.42,-138.82 295.07,-148.79\"/>\n<polygon fill=\"black\" stroke=\"black\" points=\"291.77,-147.6 290.98,-158.16 298.19,-150.4 291.77,-147.6\"/>\n</g>\n<!-- &#45;1091678586645644020 -->\n<g id=\"node8\" class=\"node\">\n<title>-1091678586645644020</title>\n<polygon fill=\"none\" stroke=\"black\" points=\"414,-120.1 360,-120.1 360,-84.1 414,-84.1 414,-120.1\"/>\n</g>\n<!-- &#45;1091678586645644020&#45;&gt;&#45;6600777697835951251 -->\n<g id=\"edge7\" class=\"edge\">\n<title>-1091678586645644020-&gt;-6600777697835951251</title>\n<path fill=\"none\" stroke=\"black\" d=\"M364.62,-120.2C349.12,-132.05 328.24,-148 310.99,-161.19\"/>\n<polygon fill=\"black\" stroke=\"black\" points=\"308.67,-158.56 302.85,-167.42 312.92,-164.12 308.67,-158.56\"/>\n</g>\n<!-- 2429418361786362226 -->\n<g id=\"node9\" class=\"node\">\n<title>2429418361786362226</title>\n<polygon fill=\"none\" stroke=\"black\" points=\"486,-120.1 432,-120.1 432,-84.1 486,-84.1 486,-120.1\"/>\n</g>\n<!-- 2429418361786362226&#45;&gt;&#45;6600777697835951251 -->\n<g id=\"edge8\" class=\"edge\">\n<title>2429418361786362226-&gt;-6600777697835951251</title>\n<path fill=\"none\" stroke=\"black\" d=\"M431.89,-115.95C428.89,-117.35 425.88,-118.76 423,-120.1 386.73,-136.91 345.16,-155.8 316.03,-168.96\"/>\n<polygon fill=\"black\" stroke=\"black\" points=\"314.33,-165.89 306.66,-173.19 317.21,-172.27 314.33,-165.89\"/>\n</g>\n<!-- 170207367273566579 -->\n<g id=\"node10\" class=\"node\">\n<title>170207367273566579</title>\n<polygon fill=\"none\" stroke=\"black\" points=\"558,-120.1 504,-120.1 504,-84.1 558,-84.1 558,-120.1\"/>\n</g>\n<!-- 170207367273566579&#45;&gt;&#45;6600777697835951251 -->\n<g id=\"edge9\" class=\"edge\">\n<title>170207367273566579-&gt;-6600777697835951251</title>\n<path fill=\"none\" stroke=\"black\" d=\"M503.66,-116.51C500.76,-117.78 497.84,-119 495,-120.1 434.45,-143.44 361.85,-164.01 318.13,-175.63\"/>\n<polygon fill=\"black\" stroke=\"black\" points=\"317.23,-172.24 308.46,-178.18 319.02,-179.01 317.23,-172.24\"/>\n</g>\n<!-- 7645295044541847184 -->\n<g id=\"node11\" class=\"node\">\n<title>7645295044541847184</title>\n<ellipse fill=\"none\" stroke=\"black\" cx=\"387\" cy=\"-24.05\" rx=\"24.1\" ry=\"24.1\"/>\n<text text-anchor=\"middle\" x=\"387\" y=\"-20.35\" font-family=\"Helvetica,sans-Serif\" font-size=\"14.00\">inc</text>\n</g>\n<!-- 7645295044541847184&#45;&gt;&#45;1091678586645644020 -->\n<g id=\"edge10\" class=\"edge\">\n<title>7645295044541847184-&gt;-1091678586645644020</title>\n<path fill=\"none\" stroke=\"black\" d=\"M387,-48.28C387,-56.39 387,-65.56 387,-73.96\"/>\n<polygon fill=\"black\" stroke=\"black\" points=\"383.5,-74.04 387,-84.04 390.5,-74.04 383.5,-74.04\"/>\n</g>\n<!-- 3187090632588511432 -->\n<g id=\"node12\" class=\"node\">\n<title>3187090632588511432</title>\n<ellipse fill=\"none\" stroke=\"black\" cx=\"531\" cy=\"-24.05\" rx=\"24.1\" ry=\"24.1\"/>\n<text text-anchor=\"middle\" x=\"531\" y=\"-20.35\" font-family=\"Helvetica,sans-Serif\" font-size=\"14.00\">inc</text>\n</g>\n<!-- 3187090632588511432&#45;&gt;170207367273566579 -->\n<g id=\"edge11\" class=\"edge\">\n<title>3187090632588511432-&gt;170207367273566579</title>\n<path fill=\"none\" stroke=\"black\" d=\"M531,-48.28C531,-56.39 531,-65.56 531,-73.96\"/>\n<polygon fill=\"black\" stroke=\"black\" points=\"527.5,-74.04 531,-84.04 534.5,-74.04 527.5,-74.04\"/>\n</g>\n<!-- &#45;3123889463911011243 -->\n<g id=\"node13\" class=\"node\">\n<title>-3123889463911011243</title>\n<ellipse fill=\"none\" stroke=\"black\" cx=\"315\" cy=\"-24.05\" rx=\"24.1\" ry=\"24.1\"/>\n<text text-anchor=\"middle\" x=\"315\" y=\"-20.35\" font-family=\"Helvetica,sans-Serif\" font-size=\"14.00\">inc</text>\n</g>\n<!-- &#45;3123889463911011243&#45;&gt;6765930492377850090 -->\n<g id=\"edge12\" class=\"edge\">\n<title>-3123889463911011243-&gt;6765930492377850090</title>\n<path fill=\"none\" stroke=\"black\" d=\"M315,-48.28C315,-56.39 315,-65.56 315,-73.96\"/>\n<polygon fill=\"black\" stroke=\"black\" points=\"311.5,-74.04 315,-84.04 318.5,-74.04 311.5,-74.04\"/>\n</g>\n<!-- 6572959041651587882 -->\n<g id=\"node14\" class=\"node\">\n<title>6572959041651587882</title>\n<ellipse fill=\"none\" stroke=\"black\" cx=\"27\" cy=\"-24.05\" rx=\"24.1\" ry=\"24.1\"/>\n<text text-anchor=\"middle\" x=\"27\" y=\"-20.35\" font-family=\"Helvetica,sans-Serif\" font-size=\"14.00\">inc</text>\n</g>\n<!-- 6572959041651587882&#45;&gt;5018464158114486017 -->\n<g id=\"edge13\" class=\"edge\">\n<title>6572959041651587882-&gt;5018464158114486017</title>\n<path fill=\"none\" stroke=\"black\" d=\"M27,-48.28C27,-56.39 27,-65.56 27,-73.96\"/>\n<polygon fill=\"black\" stroke=\"black\" points=\"23.5,-74.04 27,-84.04 30.5,-74.04 23.5,-74.04\"/>\n</g>\n<!-- &#45;7118243887543117925 -->\n<g id=\"node15\" class=\"node\">\n<title>-7118243887543117925</title>\n<ellipse fill=\"none\" stroke=\"black\" cx=\"99\" cy=\"-24.05\" rx=\"24.1\" ry=\"24.1\"/>\n<text text-anchor=\"middle\" x=\"99\" y=\"-20.35\" font-family=\"Helvetica,sans-Serif\" font-size=\"14.00\">inc</text>\n</g>\n<!-- &#45;7118243887543117925&#45;&gt;2340764281520043970 -->\n<g id=\"edge14\" class=\"edge\">\n<title>-7118243887543117925-&gt;2340764281520043970</title>\n<path fill=\"none\" stroke=\"black\" d=\"M99,-48.28C99,-56.39 99,-65.56 99,-73.96\"/>\n<polygon fill=\"black\" stroke=\"black\" points=\"95.5,-74.04 99,-84.04 102.5,-74.04 95.5,-74.04\"/>\n</g>\n<!-- &#45;6312723511383110071 -->\n<g id=\"node16\" class=\"node\">\n<title>-6312723511383110071</title>\n<ellipse fill=\"none\" stroke=\"black\" cx=\"171\" cy=\"-24.05\" rx=\"24.1\" ry=\"24.1\"/>\n<text text-anchor=\"middle\" x=\"171\" y=\"-20.35\" font-family=\"Helvetica,sans-Serif\" font-size=\"14.00\">inc</text>\n</g>\n<!-- &#45;6312723511383110071&#45;&gt;&#45;9106583336801446778 -->\n<g id=\"edge15\" class=\"edge\">\n<title>-6312723511383110071-&gt;-9106583336801446778</title>\n<path fill=\"none\" stroke=\"black\" d=\"M171,-48.28C171,-56.39 171,-65.56 171,-73.96\"/>\n<polygon fill=\"black\" stroke=\"black\" points=\"167.5,-74.04 171,-84.04 174.5,-74.04 167.5,-74.04\"/>\n</g>\n<!-- &#45;2634638924125270871 -->\n<g id=\"node17\" class=\"node\">\n<title>-2634638924125270871</title>\n<ellipse fill=\"none\" stroke=\"black\" cx=\"243\" cy=\"-24.05\" rx=\"24.1\" ry=\"24.1\"/>\n<text text-anchor=\"middle\" x=\"243\" y=\"-20.35\" font-family=\"Helvetica,sans-Serif\" font-size=\"14.00\">inc</text>\n</g>\n<!-- &#45;2634638924125270871&#45;&gt;&#45;7065892744171127639 -->\n<g id=\"edge16\" class=\"edge\">\n<title>-2634638924125270871-&gt;-7065892744171127639</title>\n<path fill=\"none\" stroke=\"black\" d=\"M243,-48.28C243,-56.39 243,-65.56 243,-73.96\"/>\n<polygon fill=\"black\" stroke=\"black\" points=\"239.5,-74.04 243,-84.04 246.5,-74.04 239.5,-74.04\"/>\n</g>\n<!-- 7344363300679948439 -->\n<g id=\"node18\" class=\"node\">\n<title>7344363300679948439</title>\n<ellipse fill=\"none\" stroke=\"black\" cx=\"459\" cy=\"-24.05\" rx=\"24.1\" ry=\"24.1\"/>\n<text text-anchor=\"middle\" x=\"459\" y=\"-20.35\" font-family=\"Helvetica,sans-Serif\" font-size=\"14.00\">inc</text>\n</g>\n<!-- 7344363300679948439&#45;&gt;2429418361786362226 -->\n<g id=\"edge17\" class=\"edge\">\n<title>7344363300679948439-&gt;2429418361786362226</title>\n<path fill=\"none\" stroke=\"black\" d=\"M459,-48.28C459,-56.39 459,-65.56 459,-73.96\"/>\n<polygon fill=\"black\" stroke=\"black\" points=\"455.5,-74.04 459,-84.04 462.5,-74.04 455.5,-74.04\"/>\n</g>\n</g>\n</svg>",
      "text/plain": [
       "<IPython.core.display.SVG object>"
      ]
     },
     "execution_count": 13,
     "metadata": {},
     "output_type": "execute_result"
    }
   ],
   "source": [
    "# Look at the task graph for `total`\n",
    "total.visualize(filename='demo_client2.svg')"
   ]
  },
  {
   "cell_type": "markdown",
   "id": "864e84b6",
   "metadata": {},
   "source": [
    "### Parallelize a for loop with control flow"
   ]
  },
  {
   "cell_type": "code",
   "execution_count": 14,
   "id": "8c8cd5e4",
   "metadata": {},
   "outputs": [],
   "source": [
    "def double(x):\n",
    "    sleep(1)\n",
    "    return 2 * x\n",
    "\n",
    "def is_even(x):\n",
    "    return not x % 2\n",
    "\n",
    "data = [1, 2, 3, 4, 5, 6, 7, 8, 9, 10]\n"
   ]
  },
  {
   "cell_type": "code",
   "execution_count": 15,
   "id": "fc40c7b6",
   "metadata": {},
   "outputs": [
    {
     "name": "stdout",
     "output_type": "stream",
     "text": [
      "90\n",
      "CPU times: user 5.77 ms, sys: 2.81 ms, total: 8.58 ms\n",
      "Wall time: 10 s\n"
     ]
    }
   ],
   "source": [
    "%%time\n",
    "# Sequential code\n",
    "\n",
    "results = []\n",
    "for x in data:\n",
    "    if is_even(x):\n",
    "        y = double(x)\n",
    "    else:\n",
    "        y = inc(x)\n",
    "    results.append(y)\n",
    "\n",
    "total = sum(results)\n",
    "print(total)"
   ]
  },
  {
   "cell_type": "code",
   "execution_count": 17,
   "id": "206ded04",
   "metadata": {},
   "outputs": [
    {
     "name": "stdout",
     "output_type": "stream",
     "text": [
      "CPU times: user 2.5 ms, sys: 1.23 ms, total: 3.73 ms\n",
      "Wall time: 1.87 ms\n"
     ]
    }
   ],
   "source": [
    "%%time\n",
    "results = []\n",
    "for x in data:\n",
    "    if is_even(x):  # even\n",
    "        y = delayed(double)(x)\n",
    "    else:          # odd\n",
    "        y = delayed(inc)(x)\n",
    "    results.append(y)\n",
    "\n",
    "total = delayed(sum)(results)"
   ]
  },
  {
   "cell_type": "code",
   "execution_count": 18,
   "id": "41a9e567",
   "metadata": {},
   "outputs": [
    {
     "name": "stdout",
     "output_type": "stream",
     "text": [
      "CPU times: user 12 ms, sys: 581 µs, total: 12.5 ms\n",
      "Wall time: 1.03 s\n"
     ]
    },
    {
     "data": {
      "text/plain": [
       "90"
      ]
     },
     "execution_count": 18,
     "metadata": {},
     "output_type": "execute_result"
    }
   ],
   "source": [
    "%time total.compute()"
   ]
  },
  {
   "cell_type": "code",
   "execution_count": 19,
   "id": "ea208f5c",
   "metadata": {},
   "outputs": [
    {
     "data": {
      "image/svg+xml": "<svg xmlns=\"http://www.w3.org/2000/svg\" xmlns:xlink=\"http://www.w3.org/1999/xlink\" width=\"828pt\" height=\"332pt\" viewBox=\"0.00 0.00 827.64 332.29\">\n<g id=\"graph0\" class=\"graph\" transform=\"scale(1 1) rotate(0) translate(4 328.29)\">\n<title>%3</title>\n<polygon fill=\"white\" stroke=\"transparent\" points=\"-4,4 -4,-328.29 823.64,-328.29 823.64,4 -4,4\"/>\n<!-- 6963102681016691536 -->\n<g id=\"node1\" class=\"node\">\n<title>6963102681016691536</title>\n<ellipse fill=\"none\" stroke=\"black\" cx=\"422.6\" cy=\"-221.74\" rx=\"30.59\" ry=\"30.59\"/>\n<text text-anchor=\"middle\" x=\"422.6\" y=\"-218.04\" font-family=\"Helvetica,sans-Serif\" font-size=\"14.00\">sum</text>\n</g>\n<!-- 8498986861376409569 -->\n<g id=\"node2\" class=\"node\">\n<title>8498986861376409569</title>\n<polygon fill=\"none\" stroke=\"black\" points=\"449.6,-324.29 395.6,-324.29 395.6,-288.29 449.6,-288.29 449.6,-324.29\"/>\n</g>\n<!-- 6963102681016691536&#45;&gt;8498986861376409569 -->\n<g id=\"edge1\" class=\"edge\">\n<title>6963102681016691536-&gt;8498986861376409569</title>\n<path fill=\"none\" stroke=\"black\" d=\"M422.6,-252.54C422.6,-260.89 422.6,-269.92 422.6,-278.11\"/>\n<polygon fill=\"black\" stroke=\"black\" points=\"419.1,-278.26 422.6,-288.26 426.1,-278.26 419.1,-278.26\"/>\n</g>\n<!-- 8536608545317017029 -->\n<g id=\"node3\" class=\"node\">\n<title>8536608545317017029</title>\n<polygon fill=\"none\" stroke=\"black\" points=\"75.6,-155.19 21.6,-155.19 21.6,-119.19 75.6,-119.19 75.6,-155.19\"/>\n</g>\n<!-- 8536608545317017029&#45;&gt;6963102681016691536 -->\n<g id=\"edge2\" class=\"edge\">\n<title>8536608545317017029-&gt;6963102681016691536</title>\n<path fill=\"none\" stroke=\"black\" d=\"M75.89,-150.11C80.73,-151.97 85.77,-153.75 90.6,-155.19 193.8,-185.96 319.42,-206.27 382.44,-215.33\"/>\n<polygon fill=\"black\" stroke=\"black\" points=\"381.98,-218.8 392.37,-216.74 382.96,-211.87 381.98,-218.8\"/>\n</g>\n<!-- 7510515292173987526 -->\n<g id=\"node4\" class=\"node\">\n<title>7510515292173987526</title>\n<polygon fill=\"none\" stroke=\"black\" points=\"153.6,-155.19 99.6,-155.19 99.6,-119.19 153.6,-119.19 153.6,-155.19\"/>\n</g>\n<!-- 7510515292173987526&#45;&gt;6963102681016691536 -->\n<g id=\"edge3\" class=\"edge\">\n<title>7510515292173987526-&gt;6963102681016691536</title>\n<path fill=\"none\" stroke=\"black\" d=\"M153.77,-147.38C161.74,-149.99 170.49,-152.78 178.6,-155.19 250.42,-176.56 335.05,-198.6 383.41,-210.9\"/>\n<polygon fill=\"black\" stroke=\"black\" points=\"382.6,-214.31 393.16,-213.37 384.32,-207.52 382.6,-214.31\"/>\n</g>\n<!-- 2930013070871304935 -->\n<g id=\"node5\" class=\"node\">\n<title>2930013070871304935</title>\n<polygon fill=\"none\" stroke=\"black\" points=\"241.6,-155.19 187.6,-155.19 187.6,-119.19 241.6,-119.19 241.6,-155.19\"/>\n</g>\n<!-- 2930013070871304935&#45;&gt;6963102681016691536 -->\n<g id=\"edge4\" class=\"edge\">\n<title>2930013070871304935-&gt;6963102681016691536</title>\n<path fill=\"none\" stroke=\"black\" d=\"M241.81,-150.22C245.75,-151.92 249.77,-153.62 253.6,-155.19 298.23,-173.57 350.03,-193.45 384.4,-206.44\"/>\n<polygon fill=\"black\" stroke=\"black\" points=\"383.46,-209.82 394.05,-210.08 385.93,-203.27 383.46,-209.82\"/>\n</g>\n<!-- &#45;8136374557520819540 -->\n<g id=\"node6\" class=\"node\">\n<title>-8136374557520819540</title>\n<polygon fill=\"none\" stroke=\"black\" points=\"316.6,-155.19 262.6,-155.19 262.6,-119.19 316.6,-119.19 316.6,-155.19\"/>\n</g>\n<!-- &#45;8136374557520819540&#45;&gt;6963102681016691536 -->\n<g id=\"edge5\" class=\"edge\">\n<title>-8136374557520819540-&gt;6963102681016691536</title>\n<path fill=\"none\" stroke=\"black\" d=\"M316.83,-155.1C337.4,-167.87 365.79,-185.48 387.97,-199.25\"/>\n<polygon fill=\"black\" stroke=\"black\" points=\"386.41,-202.4 396.75,-204.7 390.1,-196.45 386.41,-202.4\"/>\n</g>\n<!-- &#45;3739293393207442898 -->\n<g id=\"node7\" class=\"node\">\n<title>-3739293393207442898</title>\n<polygon fill=\"none\" stroke=\"black\" points=\"406.6,-155.19 352.6,-155.19 352.6,-119.19 406.6,-119.19 406.6,-155.19\"/>\n</g>\n<!-- &#45;3739293393207442898&#45;&gt;6963102681016691536 -->\n<g id=\"edge6\" class=\"edge\">\n<title>-3739293393207442898-&gt;6963102681016691536</title>\n<path fill=\"none\" stroke=\"black\" d=\"M388.51,-155.3C393.03,-163.99 398.71,-174.89 404.13,-185.29\"/>\n<polygon fill=\"black\" stroke=\"black\" points=\"401.06,-186.98 408.79,-194.23 407.27,-183.74 401.06,-186.98\"/>\n</g>\n<!-- &#45;972880200228687342 -->\n<g id=\"node8\" class=\"node\">\n<title>-972880200228687342</title>\n<polygon fill=\"none\" stroke=\"black\" points=\"492.6,-155.19 438.6,-155.19 438.6,-119.19 492.6,-119.19 492.6,-155.19\"/>\n</g>\n<!-- &#45;972880200228687342&#45;&gt;6963102681016691536 -->\n<g id=\"edge7\" class=\"edge\">\n<title>-972880200228687342-&gt;6963102681016691536</title>\n<path fill=\"none\" stroke=\"black\" d=\"M456.69,-155.3C452.16,-163.99 446.48,-174.89 441.06,-185.29\"/>\n<polygon fill=\"black\" stroke=\"black\" points=\"437.92,-183.74 436.41,-194.23 444.13,-186.98 437.92,-183.74\"/>\n</g>\n<!-- 5227150893672475766 -->\n<g id=\"node9\" class=\"node\">\n<title>5227150893672475766</title>\n<polygon fill=\"none\" stroke=\"black\" points=\"574.6,-155.19 520.6,-155.19 520.6,-119.19 574.6,-119.19 574.6,-155.19\"/>\n</g>\n<!-- 5227150893672475766&#45;&gt;6963102681016691536 -->\n<g id=\"edge8\" class=\"edge\">\n<title>5227150893672475766-&gt;6963102681016691536</title>\n<path fill=\"none\" stroke=\"black\" d=\"M521.7,-155.3C502.8,-167.78 477.01,-184.81 456.48,-198.37\"/>\n<polygon fill=\"black\" stroke=\"black\" points=\"454.45,-195.51 448.04,-203.94 458.31,-201.35 454.45,-195.51\"/>\n</g>\n<!-- 1971077455686766934 -->\n<g id=\"node10\" class=\"node\">\n<title>1971077455686766934</title>\n<polygon fill=\"none\" stroke=\"black\" points=\"651.6,-155.19 597.6,-155.19 597.6,-119.19 651.6,-119.19 651.6,-155.19\"/>\n</g>\n<!-- 1971077455686766934&#45;&gt;6963102681016691536 -->\n<g id=\"edge9\" class=\"edge\">\n<title>1971077455686766934-&gt;6963102681016691536</title>\n<path fill=\"none\" stroke=\"black\" d=\"M597.26,-149.56C592.7,-151.44 588.02,-153.38 583.6,-155.19 541.48,-172.5 493.07,-192.18 460.43,-205.42\"/>\n<polygon fill=\"black\" stroke=\"black\" points=\"458.78,-202.31 450.83,-209.31 461.41,-208.8 458.78,-202.31\"/>\n</g>\n<!-- 8852036729963828700 -->\n<g id=\"node11\" class=\"node\">\n<title>8852036729963828700</title>\n<polygon fill=\"none\" stroke=\"black\" points=\"732.6,-155.19 678.6,-155.19 678.6,-119.19 732.6,-119.19 732.6,-155.19\"/>\n</g>\n<!-- 8852036729963828700&#45;&gt;6963102681016691536 -->\n<g id=\"edge10\" class=\"edge\">\n<title>8852036729963828700-&gt;6963102681016691536</title>\n<path fill=\"none\" stroke=\"black\" d=\"M678.13,-149.03C672.37,-151.17 666.31,-153.33 660.6,-155.19 591.5,-177.7 509.53,-199.15 462.04,-211.07\"/>\n<polygon fill=\"black\" stroke=\"black\" points=\"461.02,-207.71 452.17,-213.53 462.72,-214.51 461.02,-207.71\"/>\n</g>\n<!-- &#45;3697488758567899395 -->\n<g id=\"node12\" class=\"node\">\n<title>-3697488758567899395</title>\n<polygon fill=\"none\" stroke=\"black\" points=\"814.6,-155.19 760.6,-155.19 760.6,-119.19 814.6,-119.19 814.6,-155.19\"/>\n</g>\n<!-- &#45;3697488758567899395&#45;&gt;6963102681016691536 -->\n<g id=\"edge11\" class=\"edge\">\n<title>-3697488758567899395-&gt;6963102681016691536</title>\n<path fill=\"none\" stroke=\"black\" d=\"M760.58,-148.95C754.4,-151.19 747.82,-153.41 741.6,-155.19 642.93,-183.39 523.82,-204.55 462.85,-214.48\"/>\n<polygon fill=\"black\" stroke=\"black\" points=\"462.18,-211.04 452.87,-216.09 463.3,-217.95 462.18,-211.04\"/>\n</g>\n<!-- 5587749854761951207 -->\n<g id=\"node13\" class=\"node\">\n<title>5587749854761951207</title>\n<ellipse fill=\"none\" stroke=\"black\" cx=\"561.6\" cy=\"-41.6\" rx=\"24.1\" ry=\"24.1\"/>\n<text text-anchor=\"middle\" x=\"561.6\" y=\"-37.9\" font-family=\"Helvetica,sans-Serif\" font-size=\"14.00\">inc</text>\n</g>\n<!-- 5587749854761951207&#45;&gt;5227150893672475766 -->\n<g id=\"edge12\" class=\"edge\">\n<title>5587749854761951207-&gt;5227150893672475766</title>\n<path fill=\"none\" stroke=\"black\" d=\"M558.14,-65.73C556.19,-78.72 553.76,-95 551.72,-108.64\"/>\n<polygon fill=\"black\" stroke=\"black\" points=\"548.2,-108.5 550.18,-118.9 555.12,-109.53 548.2,-108.5\"/>\n</g>\n<!-- &#45;5991748047684180645 -->\n<g id=\"node14\" class=\"node\">\n<title>-5991748047684180645</title>\n<ellipse fill=\"none\" stroke=\"black\" cx=\"711.6\" cy=\"-41.6\" rx=\"41.69\" ry=\"41.69\"/>\n<text text-anchor=\"middle\" x=\"711.6\" y=\"-37.9\" font-family=\"Helvetica,sans-Serif\" font-size=\"14.00\">double</text>\n</g>\n<!-- &#45;5991748047684180645&#45;&gt;8852036729963828700 -->\n<g id=\"edge13\" class=\"edge\">\n<title>-5991748047684180645-&gt;8852036729963828700</title>\n<path fill=\"none\" stroke=\"black\" d=\"M708.98,-83.38C708.43,-91.91 707.87,-100.72 707.36,-108.63\"/>\n<polygon fill=\"black\" stroke=\"black\" points=\"703.86,-108.57 706.71,-118.77 710.85,-109.01 703.86,-108.57\"/>\n</g>\n<!-- &#45;8060831437665479322 -->\n<g id=\"node15\" class=\"node\">\n<title>-8060831437665479322</title>\n<ellipse fill=\"none\" stroke=\"black\" cx=\"191.6\" cy=\"-41.6\" rx=\"24.1\" ry=\"24.1\"/>\n<text text-anchor=\"middle\" x=\"191.6\" y=\"-37.9\" font-family=\"Helvetica,sans-Serif\" font-size=\"14.00\">inc</text>\n</g>\n<!-- &#45;8060831437665479322&#45;&gt;2930013070871304935 -->\n<g id=\"edge14\" class=\"edge\">\n<title>-8060831437665479322-&gt;2930013070871304935</title>\n<path fill=\"none\" stroke=\"black\" d=\"M197.16,-65.25C200.41,-78.45 204.51,-95.16 207.93,-109.05\"/>\n<polygon fill=\"black\" stroke=\"black\" points=\"204.59,-110.15 210.38,-119.02 211.39,-108.48 204.59,-110.15\"/>\n</g>\n<!-- 7301922172201302992 -->\n<g id=\"node16\" class=\"node\">\n<title>7301922172201302992</title>\n<ellipse fill=\"none\" stroke=\"black\" cx=\"376.6\" cy=\"-41.6\" rx=\"41.69\" ry=\"41.69\"/>\n<text text-anchor=\"middle\" x=\"376.6\" y=\"-37.9\" font-family=\"Helvetica,sans-Serif\" font-size=\"14.00\">double</text>\n</g>\n<!-- 7301922172201302992&#45;&gt;&#45;3739293393207442898 -->\n<g id=\"edge15\" class=\"edge\">\n<title>7301922172201302992-&gt;-3739293393207442898</title>\n<path fill=\"none\" stroke=\"black\" d=\"M377.9,-83.38C378.18,-91.91 378.46,-100.72 378.71,-108.63\"/>\n<polygon fill=\"black\" stroke=\"black\" points=\"375.22,-108.89 379.04,-118.77 382.22,-108.66 375.22,-108.89\"/>\n</g>\n<!-- &#45;2292234043429190863 -->\n<g id=\"node17\" class=\"node\">\n<title>-2292234043429190863</title>\n<ellipse fill=\"none\" stroke=\"black\" cx=\"125.6\" cy=\"-41.6\" rx=\"24.1\" ry=\"24.1\"/>\n<text text-anchor=\"middle\" x=\"125.6\" y=\"-37.9\" font-family=\"Helvetica,sans-Serif\" font-size=\"14.00\">inc</text>\n</g>\n<!-- &#45;2292234043429190863&#45;&gt;7510515292173987526 -->\n<g id=\"edge16\" class=\"edge\">\n<title>-2292234043429190863-&gt;7510515292173987526</title>\n<path fill=\"none\" stroke=\"black\" d=\"M125.84,-65.73C125.98,-78.72 126.16,-95 126.3,-108.64\"/>\n<polygon fill=\"black\" stroke=\"black\" points=\"122.8,-108.94 126.41,-118.9 129.8,-108.87 122.8,-108.94\"/>\n</g>\n<!-- &#45;2165035318816061162 -->\n<g id=\"node18\" class=\"node\">\n<title>-2165035318816061162</title>\n<ellipse fill=\"none\" stroke=\"black\" cx=\"477.6\" cy=\"-41.6\" rx=\"41.69\" ry=\"41.69\"/>\n<text text-anchor=\"middle\" x=\"477.6\" y=\"-37.9\" font-family=\"Helvetica,sans-Serif\" font-size=\"14.00\">double</text>\n</g>\n<!-- &#45;2165035318816061162&#45;&gt;&#45;972880200228687342 -->\n<g id=\"edge17\" class=\"edge\">\n<title>-2165035318816061162-&gt;-972880200228687342</title>\n<path fill=\"none\" stroke=\"black\" d=\"M472.4,-83.1C471.28,-91.9 470.11,-100.99 469.07,-109.12\"/>\n<polygon fill=\"black\" stroke=\"black\" points=\"465.58,-108.77 467.78,-119.13 472.53,-109.66 465.58,-108.77\"/>\n</g>\n<!-- &#45;2983606512822375332 -->\n<g id=\"node19\" class=\"node\">\n<title>-2983606512822375332</title>\n<ellipse fill=\"none\" stroke=\"black\" cx=\"627.6\" cy=\"-41.6\" rx=\"24.1\" ry=\"24.1\"/>\n<text text-anchor=\"middle\" x=\"627.6\" y=\"-37.9\" font-family=\"Helvetica,sans-Serif\" font-size=\"14.00\">inc</text>\n</g>\n<!-- &#45;2983606512822375332&#45;&gt;1971077455686766934 -->\n<g id=\"edge18\" class=\"edge\">\n<title>-2983606512822375332-&gt;1971077455686766934</title>\n<path fill=\"none\" stroke=\"black\" d=\"M626.85,-65.73C626.44,-78.72 625.92,-95 625.48,-108.64\"/>\n<polygon fill=\"black\" stroke=\"black\" points=\"621.97,-108.8 625.15,-118.9 628.97,-109.02 621.97,-108.8\"/>\n</g>\n<!-- &#45;6540263700524893900 -->\n<g id=\"node20\" class=\"node\">\n<title>-6540263700524893900</title>\n<ellipse fill=\"none\" stroke=\"black\" cx=\"275.6\" cy=\"-41.6\" rx=\"41.69\" ry=\"41.69\"/>\n<text text-anchor=\"middle\" x=\"275.6\" y=\"-37.9\" font-family=\"Helvetica,sans-Serif\" font-size=\"14.00\">double</text>\n</g>\n<!-- &#45;6540263700524893900&#45;&gt;&#45;8136374557520819540 -->\n<g id=\"edge19\" class=\"edge\">\n<title>-6540263700524893900-&gt;-8136374557520819540</title>\n<path fill=\"none\" stroke=\"black\" d=\"M281.61,-82.83C282.93,-91.65 284.3,-100.79 285.52,-108.96\"/>\n<polygon fill=\"black\" stroke=\"black\" points=\"282.09,-109.65 287.03,-119.03 289.01,-108.62 282.09,-109.65\"/>\n</g>\n<!-- 4828051831062381004 -->\n<g id=\"node21\" class=\"node\">\n<title>4828051831062381004</title>\n<ellipse fill=\"none\" stroke=\"black\" cx=\"795.6\" cy=\"-41.6\" rx=\"24.1\" ry=\"24.1\"/>\n<text text-anchor=\"middle\" x=\"795.6\" y=\"-37.9\" font-family=\"Helvetica,sans-Serif\" font-size=\"14.00\">inc</text>\n</g>\n<!-- 4828051831062381004&#45;&gt;&#45;3697488758567899395 -->\n<g id=\"edge20\" class=\"edge\">\n<title>4828051831062381004-&gt;-3697488758567899395</title>\n<path fill=\"none\" stroke=\"black\" d=\"M793.62,-65.73C792.51,-78.72 791.12,-95 789.95,-108.64\"/>\n<polygon fill=\"black\" stroke=\"black\" points=\"786.44,-108.64 789.07,-118.9 793.41,-109.24 786.44,-108.64\"/>\n</g>\n<!-- 7017448613950534901 -->\n<g id=\"node22\" class=\"node\">\n<title>7017448613950534901</title>\n<ellipse fill=\"none\" stroke=\"black\" cx=\"41.6\" cy=\"-41.6\" rx=\"41.69\" ry=\"41.69\"/>\n<text text-anchor=\"middle\" x=\"41.6\" y=\"-37.9\" font-family=\"Helvetica,sans-Serif\" font-size=\"14.00\">double</text>\n</g>\n<!-- 7017448613950534901&#45;&gt;8536608545317017029 -->\n<g id=\"edge21\" class=\"edge\">\n<title>7017448613950534901-&gt;8536608545317017029</title>\n<path fill=\"none\" stroke=\"black\" d=\"M44.63,-83.1C45.28,-91.9 45.96,-100.99 46.57,-109.12\"/>\n<polygon fill=\"black\" stroke=\"black\" points=\"43.08,-109.42 47.32,-119.13 50.06,-108.9 43.08,-109.42\"/>\n</g>\n</g>\n</svg>",
      "text/plain": [
       "<IPython.core.display.SVG object>"
      ]
     },
     "execution_count": 19,
     "metadata": {},
     "output_type": "execute_result"
    }
   ],
   "source": [
    "total.visualize(filename='demo_client3.svg')"
   ]
  },
  {
   "cell_type": "markdown",
   "id": "cf792846",
   "metadata": {},
   "source": [
    "### Demo with Pandas "
   ]
  },
  {
   "cell_type": "code",
   "execution_count": 20,
   "id": "803499fd",
   "metadata": {},
   "outputs": [
    {
     "data": {
      "text/plain": [
       "['1990.csv', '1991.csv', '1992.csv', '1993.csv', 'New folder']"
      ]
     },
     "execution_count": 20,
     "metadata": {},
     "output_type": "execute_result"
    }
   ],
   "source": [
    "import os\n",
    "# You must change this with your own path\n",
    "path = '/mnt/d/work/vhio/code/dask-demo/data/'\n",
    "sorted(os.listdir(path))"
   ]
  },
  {
   "cell_type": "code",
   "execution_count": 21,
   "id": "0cc3a9b0",
   "metadata": {},
   "outputs": [
    {
     "data": {
      "text/html": [
       "<div>\n",
       "<style scoped>\n",
       "    .dataframe tbody tr th:only-of-type {\n",
       "        vertical-align: middle;\n",
       "    }\n",
       "\n",
       "    .dataframe tbody tr th {\n",
       "        vertical-align: top;\n",
       "    }\n",
       "\n",
       "    .dataframe thead th {\n",
       "        text-align: right;\n",
       "    }\n",
       "</style>\n",
       "<table border=\"1\" class=\"dataframe\">\n",
       "  <thead>\n",
       "    <tr style=\"text-align: right;\">\n",
       "      <th></th>\n",
       "      <th>Year</th>\n",
       "      <th>Month</th>\n",
       "      <th>DayofMonth</th>\n",
       "      <th>DayOfWeek</th>\n",
       "      <th>DepTime</th>\n",
       "      <th>CRSDepTime</th>\n",
       "      <th>ArrTime</th>\n",
       "      <th>CRSArrTime</th>\n",
       "      <th>UniqueCarrier</th>\n",
       "      <th>FlightNum</th>\n",
       "      <th>...</th>\n",
       "      <th>TaxiIn</th>\n",
       "      <th>TaxiOut</th>\n",
       "      <th>Cancelled</th>\n",
       "      <th>CancellationCode</th>\n",
       "      <th>Diverted</th>\n",
       "      <th>CarrierDelay</th>\n",
       "      <th>WeatherDelay</th>\n",
       "      <th>NASDelay</th>\n",
       "      <th>SecurityDelay</th>\n",
       "      <th>LateAircraftDelay</th>\n",
       "    </tr>\n",
       "  </thead>\n",
       "  <tbody>\n",
       "    <tr>\n",
       "      <th>0</th>\n",
       "      <td>1990</td>\n",
       "      <td>1</td>\n",
       "      <td>3</td>\n",
       "      <td>3</td>\n",
       "      <td>1707.0</td>\n",
       "      <td>1630</td>\n",
       "      <td>1755.0</td>\n",
       "      <td>1723</td>\n",
       "      <td>US</td>\n",
       "      <td>29</td>\n",
       "      <td>...</td>\n",
       "      <td>NaN</td>\n",
       "      <td>NaN</td>\n",
       "      <td>0</td>\n",
       "      <td>NaN</td>\n",
       "      <td>0</td>\n",
       "      <td>NaN</td>\n",
       "      <td>NaN</td>\n",
       "      <td>NaN</td>\n",
       "      <td>NaN</td>\n",
       "      <td>NaN</td>\n",
       "    </tr>\n",
       "    <tr>\n",
       "      <th>1</th>\n",
       "      <td>1990</td>\n",
       "      <td>1</td>\n",
       "      <td>4</td>\n",
       "      <td>4</td>\n",
       "      <td>1706.0</td>\n",
       "      <td>1630</td>\n",
       "      <td>1807.0</td>\n",
       "      <td>1723</td>\n",
       "      <td>US</td>\n",
       "      <td>29</td>\n",
       "      <td>...</td>\n",
       "      <td>NaN</td>\n",
       "      <td>NaN</td>\n",
       "      <td>0</td>\n",
       "      <td>NaN</td>\n",
       "      <td>0</td>\n",
       "      <td>NaN</td>\n",
       "      <td>NaN</td>\n",
       "      <td>NaN</td>\n",
       "      <td>NaN</td>\n",
       "      <td>NaN</td>\n",
       "    </tr>\n",
       "    <tr>\n",
       "      <th>2</th>\n",
       "      <td>1990</td>\n",
       "      <td>1</td>\n",
       "      <td>5</td>\n",
       "      <td>5</td>\n",
       "      <td>1629.0</td>\n",
       "      <td>1630</td>\n",
       "      <td>1715.0</td>\n",
       "      <td>1723</td>\n",
       "      <td>US</td>\n",
       "      <td>29</td>\n",
       "      <td>...</td>\n",
       "      <td>NaN</td>\n",
       "      <td>NaN</td>\n",
       "      <td>0</td>\n",
       "      <td>NaN</td>\n",
       "      <td>0</td>\n",
       "      <td>NaN</td>\n",
       "      <td>NaN</td>\n",
       "      <td>NaN</td>\n",
       "      <td>NaN</td>\n",
       "      <td>NaN</td>\n",
       "    </tr>\n",
       "    <tr>\n",
       "      <th>3</th>\n",
       "      <td>1990</td>\n",
       "      <td>1</td>\n",
       "      <td>6</td>\n",
       "      <td>6</td>\n",
       "      <td>1633.0</td>\n",
       "      <td>1630</td>\n",
       "      <td>1718.0</td>\n",
       "      <td>1723</td>\n",
       "      <td>US</td>\n",
       "      <td>29</td>\n",
       "      <td>...</td>\n",
       "      <td>NaN</td>\n",
       "      <td>NaN</td>\n",
       "      <td>0</td>\n",
       "      <td>NaN</td>\n",
       "      <td>0</td>\n",
       "      <td>NaN</td>\n",
       "      <td>NaN</td>\n",
       "      <td>NaN</td>\n",
       "      <td>NaN</td>\n",
       "      <td>NaN</td>\n",
       "    </tr>\n",
       "    <tr>\n",
       "      <th>4</th>\n",
       "      <td>1990</td>\n",
       "      <td>1</td>\n",
       "      <td>8</td>\n",
       "      <td>1</td>\n",
       "      <td>1630.0</td>\n",
       "      <td>1630</td>\n",
       "      <td>1726.0</td>\n",
       "      <td>1723</td>\n",
       "      <td>US</td>\n",
       "      <td>29</td>\n",
       "      <td>...</td>\n",
       "      <td>NaN</td>\n",
       "      <td>NaN</td>\n",
       "      <td>0</td>\n",
       "      <td>NaN</td>\n",
       "      <td>0</td>\n",
       "      <td>NaN</td>\n",
       "      <td>NaN</td>\n",
       "      <td>NaN</td>\n",
       "      <td>NaN</td>\n",
       "      <td>NaN</td>\n",
       "    </tr>\n",
       "  </tbody>\n",
       "</table>\n",
       "<p>5 rows × 29 columns</p>\n",
       "</div>"
      ],
      "text/plain": [
       "   Year  Month  DayofMonth  DayOfWeek  DepTime  CRSDepTime  ArrTime  \\\n",
       "0  1990      1           3          3   1707.0        1630   1755.0   \n",
       "1  1990      1           4          4   1706.0        1630   1807.0   \n",
       "2  1990      1           5          5   1629.0        1630   1715.0   \n",
       "3  1990      1           6          6   1633.0        1630   1718.0   \n",
       "4  1990      1           8          1   1630.0        1630   1726.0   \n",
       "\n",
       "   CRSArrTime UniqueCarrier  FlightNum  ...  TaxiIn  TaxiOut  Cancelled  \\\n",
       "0        1723            US         29  ...     NaN      NaN          0   \n",
       "1        1723            US         29  ...     NaN      NaN          0   \n",
       "2        1723            US         29  ...     NaN      NaN          0   \n",
       "3        1723            US         29  ...     NaN      NaN          0   \n",
       "4        1723            US         29  ...     NaN      NaN          0   \n",
       "\n",
       "   CancellationCode  Diverted  CarrierDelay WeatherDelay NASDelay  \\\n",
       "0               NaN         0           NaN          NaN      NaN   \n",
       "1               NaN         0           NaN          NaN      NaN   \n",
       "2               NaN         0           NaN          NaN      NaN   \n",
       "3               NaN         0           NaN          NaN      NaN   \n",
       "4               NaN         0           NaN          NaN      NaN   \n",
       "\n",
       "   SecurityDelay  LateAircraftDelay  \n",
       "0            NaN                NaN  \n",
       "1            NaN                NaN  \n",
       "2            NaN                NaN  \n",
       "3            NaN                NaN  \n",
       "4            NaN                NaN  \n",
       "\n",
       "[5 rows x 29 columns]"
      ]
     },
     "execution_count": 21,
     "metadata": {},
     "output_type": "execute_result"
    }
   ],
   "source": [
    "import pandas as pd\n",
    "df = pd.read_csv(os.path.join(path, '1990.csv'))\n",
    "df.head()"
   ]
  },
  {
   "cell_type": "code",
   "execution_count": 22,
   "id": "53045a72",
   "metadata": {},
   "outputs": [
    {
     "data": {
      "text/plain": [
       "Year                   int64\n",
       "Month                  int64\n",
       "DayofMonth             int64\n",
       "DayOfWeek              int64\n",
       "DepTime              float64\n",
       "CRSDepTime             int64\n",
       "ArrTime              float64\n",
       "CRSArrTime             int64\n",
       "UniqueCarrier         object\n",
       "FlightNum              int64\n",
       "TailNum              float64\n",
       "ActualElapsedTime    float64\n",
       "CRSElapsedTime         int64\n",
       "AirTime              float64\n",
       "ArrDelay             float64\n",
       "DepDelay             float64\n",
       "Origin                object\n",
       "Dest                  object\n",
       "Distance             float64\n",
       "TaxiIn               float64\n",
       "TaxiOut              float64\n",
       "Cancelled              int64\n",
       "CancellationCode     float64\n",
       "Diverted               int64\n",
       "CarrierDelay         float64\n",
       "WeatherDelay         float64\n",
       "NASDelay             float64\n",
       "SecurityDelay        float64\n",
       "LateAircraftDelay    float64\n",
       "dtype: object"
      ]
     },
     "execution_count": 22,
     "metadata": {},
     "output_type": "execute_result"
    }
   ],
   "source": [
    "# Schema\n",
    "df.dtypes"
   ]
  },
  {
   "cell_type": "code",
   "execution_count": 23,
   "id": "cc7d3048",
   "metadata": {},
   "outputs": [
    {
     "data": {
      "text/plain": [
       "array(['CMH', 'IND', 'LAX', 'PHL', 'PIT', 'SFO', 'BDL', 'MSY', 'EWR',\n",
       "       'BWI', 'MCI', 'SAN', 'MDT', 'MCO', 'LGA', 'PSP', 'TPA', 'IAD',\n",
       "       'DAY', 'CLE', 'ABE', 'ISP', 'BUR', 'DCA', 'PHX', 'FLL', 'PVD',\n",
       "       'ABQ', 'TUS', 'TYS', 'LAS', 'MIA', 'SYR', 'DTW', 'BOS', 'EVV',\n",
       "       'BTV', 'PBI', 'OAK', 'ERI', 'ONT', 'PDX', 'ROC', 'CLT', 'SEA',\n",
       "       'SNA', 'GRR', 'DFW', 'AVP', 'IAH', 'ORD', 'JFK', 'RIC', 'RNO',\n",
       "       'BUF', 'TOL', 'SAV', 'SMF', 'RDU', 'CVG', 'STL', 'PHF', 'MKE',\n",
       "       'ALB', 'BNA', 'MEM', 'FWA', 'ELM', 'CRW', 'ATL', 'JAX', 'ORH',\n",
       "       'MSP', 'SDF', 'LEX', 'BGM', 'CAE', 'CHS', 'MHT', 'MYR', 'BHM',\n",
       "       'MDW', 'ORF', 'ITH', 'GSO', 'GSP', 'TRI', 'RSW', 'PWM', 'SRQ',\n",
       "       'AVL', 'LGB', 'SJC', 'ACY', 'HTS', 'ICT', 'BLI', 'SBN', 'AZO',\n",
       "       'ROA', 'DAB', 'CAK', 'SJU', 'CHO', 'FNT', 'UCA', 'DEN', 'TLH',\n",
       "       'LYH', 'CMI', 'EYW', 'FAY', 'ILM', 'PNS', 'ISO', 'MLB', 'AGS',\n",
       "       'GNV', 'LAN', 'SAT', 'CHA', 'OAJ', 'AUS', 'FAT', 'SCK', 'CCR',\n",
       "       'MRY', 'EUG', 'MFR', 'DAL', 'HOU', 'AMA', 'LIT', 'HRL', 'TUL',\n",
       "       'CRP', 'OKC', 'LBB', 'MAF', 'ELP', 'DET', 'DLH', 'FSD', 'BIS',\n",
       "       'ATW', 'GRB', 'FAR', 'MBS', 'BIL', 'BZN', 'DSM', 'RST', 'MSN',\n",
       "       'OMA', 'CID', 'LSE', 'MOT', 'GFK', 'BTR', 'GEG', 'RAP', 'JAN',\n",
       "       'SLC', 'GTF', 'MSO', 'MOB', 'VPS', 'GPT', 'HSV', 'HPN', 'SHV',\n",
       "       'HDN', 'TVC', 'HNL', 'STT', 'STX', 'COS', 'SUX', 'LNK', 'PUB',\n",
       "       'MLI', 'SGF', 'PIA', 'ANC', 'FAI', 'KOA', 'OGG', 'SBA', 'BGR',\n",
       "       'BOI', 'LIH', 'MGM', 'MLU', 'CSG', 'CPR', 'HLN', 'JAC', 'FCA',\n",
       "       'GUC', 'PSC', 'IDA', 'BTM', 'JNU', 'DRO', 'GJT', 'PMD', 'EGE',\n",
       "       'SUN', 'YUM', 'FLG', 'GCN', 'BFL', 'TVL', 'BET', 'OME', 'OTZ',\n",
       "       'SCC', 'KTN', 'CDV', 'YAK', 'SIT', 'PSG', 'WRG', 'RDM', 'GUM',\n",
       "       'LFT', 'MFE', 'YAP', 'ROR', 'SPN', 'SWF', 'GST', 'ROP', 'EFD',\n",
       "       'PSE'], dtype=object)"
      ]
     },
     "execution_count": 23,
     "metadata": {},
     "output_type": "execute_result"
    }
   ],
   "source": [
    "df.Origin.unique()"
   ]
  },
  {
   "cell_type": "code",
   "execution_count": 24,
   "id": "6c69cd20",
   "metadata": {},
   "outputs": [
    {
     "data": {
      "text/plain": [
       "Origin\n",
       "ABE     5.004711\n",
       "ABQ     7.319594\n",
       "ACY     4.770252\n",
       "AGS     6.651299\n",
       "ALB     5.984751\n",
       "         ...    \n",
       "VPS    -0.122316\n",
       "WRG     9.496835\n",
       "YAK     5.256449\n",
       "YAP    28.145985\n",
       "YUM     2.448757\n",
       "Name: DepDelay, Length: 235, dtype: float64"
      ]
     },
     "execution_count": 24,
     "metadata": {},
     "output_type": "execute_result"
    }
   ],
   "source": [
    "# Mean departure delay per-airport for one year\n",
    "df.groupby('Origin').DepDelay.mean()"
   ]
  },
  {
   "cell_type": "markdown",
   "id": "065a4f08",
   "metadata": {},
   "source": [
    "### Sequential code: Mean Departure Delay Per Airport"
   ]
  },
  {
   "cell_type": "code",
   "execution_count": 26,
   "id": "198bf029",
   "metadata": {},
   "outputs": [
    {
     "data": {
      "text/plain": [
       "['/mnt/d/work/vhio/code/dask-demo/data/1990.csv',\n",
       " '/mnt/d/work/vhio/code/dask-demo/data/1991.csv',\n",
       " '/mnt/d/work/vhio/code/dask-demo/data/1992.csv',\n",
       " '/mnt/d/work/vhio/code/dask-demo/data/1993.csv']"
      ]
     },
     "execution_count": 26,
     "metadata": {},
     "output_type": "execute_result"
    }
   ],
   "source": [
    "from glob import glob\n",
    "filenames = sorted(glob(os.path.join(path, '*.csv')))\n",
    "filenames"
   ]
  },
  {
   "cell_type": "code",
   "execution_count": 27,
   "id": "5cbe5a37",
   "metadata": {},
   "outputs": [
    {
     "name": "stdout",
     "output_type": "stream",
     "text": [
      "CPU times: user 23.9 s, sys: 2.18 s, total: 26.1 s\n",
      "Wall time: 39.8 s\n"
     ]
    }
   ],
   "source": [
    "%%time\n",
    "\n",
    "sums = []\n",
    "counts = []\n",
    "for fn in filenames:\n",
    "    # Read in file\n",
    "    df = pd.read_csv(fn,encoding='ISO-8859-1')\n",
    "\n",
    "    # Groupby origin airport\n",
    "    by_origin = df.groupby('Origin')\n",
    "\n",
    "    # Sum of all departure delays by origin\n",
    "    total = by_origin.DepDelay.sum()\n",
    "\n",
    "    # Number of flights by origin\n",
    "    count = by_origin.DepDelay.count()\n",
    "\n",
    "    # Save the intermediates\n",
    "    sums.append(total)\n",
    "    counts.append(count)\n",
    "\n",
    "# Combine intermediates to get total mean-delay-per-origin\n",
    "total_delays = sum(sums)\n",
    "n_flights = sum(counts)\n",
    "mean = total_delays / n_flights"
   ]
  },
  {
   "cell_type": "code",
   "execution_count": 28,
   "id": "2cc72772",
   "metadata": {},
   "outputs": [
    {
     "data": {
      "text/plain": [
       "Origin\n",
       "ABE    4.251264\n",
       "ABQ    5.521551\n",
       "ACK         NaN\n",
       "ACY    3.334919\n",
       "ADQ         NaN\n",
       "         ...   \n",
       "VPS   -0.927523\n",
       "WRG    9.124138\n",
       "YAK    6.303154\n",
       "YAP         NaN\n",
       "YUM         NaN\n",
       "Name: DepDelay, Length: 252, dtype: float64"
      ]
     },
     "execution_count": 28,
     "metadata": {},
     "output_type": "execute_result"
    }
   ],
   "source": [
    "mean"
   ]
  },
  {
   "cell_type": "markdown",
   "id": "aa651c37",
   "metadata": {},
   "source": [
    "### Parallelize the code above"
   ]
  },
  {
   "cell_type": "code",
   "execution_count": 29,
   "id": "a247439d",
   "metadata": {},
   "outputs": [],
   "source": [
    "from dask import compute"
   ]
  },
  {
   "cell_type": "code",
   "execution_count": 30,
   "id": "787a34c3",
   "metadata": {},
   "outputs": [
    {
     "name": "stdout",
     "output_type": "stream",
     "text": [
      "CPU times: user 45.6 ms, sys: 9.58 ms, total: 55.2 ms\n",
      "Wall time: 14.3 s\n"
     ]
    }
   ],
   "source": [
    "%%time\n",
    "\n",
    "# This is just one possible solution, there are\n",
    "# several ways to do this using `delayed`\n",
    "\n",
    "sums = []\n",
    "counts = []\n",
    "for fn in filenames:\n",
    "    # Read in file\n",
    "    df = delayed(pd.read_csv)(fn)\n",
    "\n",
    "    # Groupby origin airport\n",
    "    by_origin = df.groupby('Origin')\n",
    "\n",
    "    # Sum of all departure delays by origin\n",
    "    total = by_origin.DepDelay.sum()\n",
    "\n",
    "    # Number of flights by origin\n",
    "    count = by_origin.DepDelay.count()\n",
    "\n",
    "    # Save the intermediates\n",
    "    sums.append(total)\n",
    "    counts.append(count)\n",
    "\n",
    "# Compute the intermediates\n",
    "sums, counts = compute(sums, counts)\n",
    "\n",
    "# Combine intermediates to get total mean-delay-per-origin\n",
    "total_delays = sum(sums)\n",
    "n_flights = sum(counts)\n",
    "mean = total_delays / n_flights"
   ]
  },
  {
   "cell_type": "code",
   "execution_count": 31,
   "id": "5c33bcc2",
   "metadata": {},
   "outputs": [
    {
     "data": {
      "text/plain": [
       "Origin\n",
       "ABE    4.251264\n",
       "ABQ    5.521551\n",
       "ACK         NaN\n",
       "ACY    3.334919\n",
       "ADQ         NaN\n",
       "         ...   \n",
       "VPS   -0.927523\n",
       "WRG    9.124138\n",
       "YAK    6.303154\n",
       "YAP         NaN\n",
       "YUM         NaN\n",
       "Name: DepDelay, Length: 252, dtype: float64"
      ]
     },
     "execution_count": 31,
     "metadata": {},
     "output_type": "execute_result"
    }
   ],
   "source": [
    "mean"
   ]
  },
  {
   "cell_type": "markdown",
   "id": "646e2d97",
   "metadata": {},
   "source": [
    "### Always at the end close the client"
   ]
  },
  {
   "cell_type": "code",
   "execution_count": 32,
   "id": "f0c37817",
   "metadata": {},
   "outputs": [],
   "source": [
    "client.close()"
   ]
  }
 ],
 "metadata": {
  "kernelspec": {
   "display_name": "Python 3.8.5 ('dask')",
   "language": "python",
   "name": "python3"
  },
  "language_info": {
   "codemirror_mode": {
    "name": "ipython",
    "version": 3
   },
   "file_extension": ".py",
   "mimetype": "text/x-python",
   "name": "python",
   "nbconvert_exporter": "python",
   "pygments_lexer": "ipython3",
   "version": "3.8.5"
  },
  "vscode": {
   "interpreter": {
    "hash": "fb1a9631e3e65a2ec2250b76ac73c8e28febe8e902a7ba7274eb5c25206a50f4"
   }
  }
 },
 "nbformat": 4,
 "nbformat_minor": 5
}
