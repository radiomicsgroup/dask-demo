{
 "cells": [
  {
   "cell_type": "markdown",
   "id": "c7a95bfa",
   "metadata": {},
   "source": [
    "## Simple Dask Client Demo"
   ]
  },
  {
   "cell_type": "markdown",
   "id": "ba957085",
   "metadata": {},
   "source": [
    "### Simple Code"
   ]
  },
  {
   "cell_type": "code",
   "execution_count": 2,
   "id": "89a351a0-83ec-4ad4-9cef-a9a31d8296bf",
   "metadata": {},
   "outputs": [],
   "source": [
    "from time import sleep\n",
    "\n",
    "def inc(x):\n",
    "    sleep(1)\n",
    "    return x + 1\n",
    "\n",
    "def add(x, y):\n",
    "    sleep(1)\n",
    "    return x + y"
   ]
  },
  {
   "cell_type": "code",
   "execution_count": 3,
   "id": "960cff2f-b6d8-4213-a504-933b0af115c5",
   "metadata": {},
   "outputs": [
    {
     "name": "stdout",
     "output_type": "stream",
     "text": [
      "CPU times: user 2.68 ms, sys: 100 µs, total: 2.78 ms\n",
      "Wall time: 3 s\n"
     ]
    }
   ],
   "source": [
    "%%time\n",
    "# This takes three seconds to run because we call each\n",
    "# function sequentially, one after the other\n",
    "\n",
    "x = inc(1)\n",
    "y = inc(2)\n",
    "z = add(x, y)"
   ]
  },
  {
   "cell_type": "markdown",
   "id": "152b37c4",
   "metadata": {},
   "source": []
  },
  {
   "cell_type": "markdown",
   "id": "d62e1309",
   "metadata": {},
   "source": [
    "### Parallelize with the <i><small>dask.delayed</small></i> decorator"
   ]
  },
  {
   "cell_type": "markdown",
   "id": "45eedc21",
   "metadata": {},
   "source": []
  },
  {
   "cell_type": "code",
   "execution_count": 4,
   "id": "edc18a17",
   "metadata": {},
   "outputs": [],
   "source": [
    "from dask import delayed\n",
    "from dask.distributed import Client\n",
    "\n",
    "client = Client(\"172.24.201.182:8786\")"
   ]
  },
  {
   "cell_type": "code",
   "execution_count": 5,
   "id": "5e0d5ba8",
   "metadata": {},
   "outputs": [
    {
     "name": "stdout",
     "output_type": "stream",
     "text": [
      "CPU times: user 0 ns, sys: 3.1 ms, total: 3.1 ms\n",
      "Wall time: 1.67 ms\n"
     ]
    }
   ],
   "source": [
    "%%time\n",
    "# This runs immediately, all it does is build a graph\n",
    "\n",
    "x = delayed(inc)(1)\n",
    "y = delayed(inc)(2)\n",
    "z = delayed(add)(x, y)"
   ]
  },
  {
   "cell_type": "markdown",
   "id": "ca35769f",
   "metadata": {},
   "source": [
    "### Compute the real value"
   ]
  },
  {
   "cell_type": "code",
   "execution_count": 6,
   "id": "0671d8b6",
   "metadata": {},
   "outputs": [
    {
     "name": "stdout",
     "output_type": "stream",
     "text": [
      "CPU times: user 68.2 ms, sys: 6.06 ms, total: 74.3 ms\n",
      "Wall time: 2.08 s\n"
     ]
    },
    {
     "data": {
      "text/plain": [
       "5"
      ]
     },
     "execution_count": 6,
     "metadata": {},
     "output_type": "execute_result"
    }
   ],
   "source": [
    "%%time\n",
    "# This actually runs our computation using a local thread pool\n",
    "\n",
    "z.compute()"
   ]
  },
  {
   "cell_type": "markdown",
   "id": "4788af8d",
   "metadata": {},
   "source": [
    "### Type Delayed"
   ]
  },
  {
   "cell_type": "code",
   "execution_count": 7,
   "id": "9d5c49ab",
   "metadata": {},
   "outputs": [
    {
     "data": {
      "text/plain": [
       "Delayed('add-29999a8a-a6c2-4ff9-ba6a-d8664e3d8e1c')"
      ]
     },
     "execution_count": 7,
     "metadata": {},
     "output_type": "execute_result"
    }
   ],
   "source": [
    "z"
   ]
  },
  {
   "cell_type": "markdown",
   "id": "2712878d",
   "metadata": {},
   "source": [
    "### View the exec plan"
   ]
  },
  {
   "cell_type": "code",
   "execution_count": 8,
   "id": "a38bf1e3",
   "metadata": {},
   "outputs": [
    {
     "data": {
      "image/png": "[encoded data removed]",
      "text/plain": [
       "<IPython.core.display.Image object>"
      ]
     },
     "execution_count": 8,
     "metadata": {},
     "output_type": "execute_result"
    }
   ],
   "source": [
    "# Look at the task graph for `z`\n",
    "z.visualize()"
   ]
  },
  {
   "cell_type": "markdown",
   "id": "64cf3f3a",
   "metadata": {},
   "source": [
    "### Parallelize a for loop"
   ]
  },
  {
   "cell_type": "code",
   "execution_count": 9,
   "id": "ab269851",
   "metadata": {},
   "outputs": [],
   "source": [
    "# Data \n",
    "data = [1, 2, 3, 4, 5, 6, 7, 8]"
   ]
  },
  {
   "cell_type": "code",
   "execution_count": 10,
   "id": "9780e0bc",
   "metadata": {},
   "outputs": [
    {
     "name": "stdout",
     "output_type": "stream",
     "text": [
      "CPU times: user 6.45 ms, sys: 1.15 ms, total: 7.6 ms\n",
      "Wall time: 8.01 s\n"
     ]
    }
   ],
   "source": [
    "%%time\n",
    "# Sequential code\n",
    "\n",
    "results = []\n",
    "for x in data:\n",
    "    y = inc(x)\n",
    "    results.append(y)\n",
    "\n",
    "total = sum(results)"
   ]
  },
  {
   "cell_type": "code",
   "execution_count": 11,
   "id": "6de56617",
   "metadata": {},
   "outputs": [
    {
     "data": {
      "text/plain": [
       "44"
      ]
     },
     "execution_count": 11,
     "metadata": {},
     "output_type": "execute_result"
    }
   ],
   "source": [
    "# Get Total value\n",
    "total"
   ]
  },
  {
   "cell_type": "code",
   "execution_count": 12,
   "id": "95659c71",
   "metadata": {},
   "outputs": [
    {
     "name": "stdout",
     "output_type": "stream",
     "text": [
      "Before computing: Delayed('sum-33d24885-31ff-4237-97dc-a510a2355840')\n",
      "After computing : 44\n",
      "CPU times: user 15.1 ms, sys: 0 ns, total: 15.1 ms\n",
      "Wall time: 1.04 s\n"
     ]
    }
   ],
   "source": [
    "%%time\n",
    "# Parallel code\n",
    "results = []\n",
    "\n",
    "for x in data:\n",
    "    y = delayed(inc)(x)\n",
    "    results.append(y)\n",
    "\n",
    "total = delayed(sum)(results)\n",
    "print(\"Before computing:\", total)  # Let's see what type of thing total is\n",
    "result = total.compute()\n",
    "print(\"After computing :\", result)  # After it's computed"
   ]
  },
  {
   "cell_type": "code",
   "execution_count": 13,
   "id": "79557ec2",
   "metadata": {},
   "outputs": [
    {
     "data": {
      "text/plain": [
       "Delayed('sum-33d24885-31ff-4237-97dc-a510a2355840')"
      ]
     },
     "execution_count": 13,
     "metadata": {},
     "output_type": "execute_result"
    }
   ],
   "source": [
    "# Delayed \n",
    "total"
   ]
  },
  {
   "cell_type": "code",
   "execution_count": 14,
   "id": "c03b74ae",
   "metadata": {},
   "outputs": [
    {
     "data": {
      "image/png": "[encoded data removed]",
      "text/plain": [
       "<IPython.core.display.Image object>"
      ]
     },
     "execution_count": 14,
     "metadata": {},
     "output_type": "execute_result"
    }
   ],
   "source": [
    "# Look at the task graph for `total`\n",
    "total.visualize()"
   ]
  },
  {
   "cell_type": "markdown",
   "id": "864e84b6",
   "metadata": {},
   "source": [
    "### Parallelize a for loop with control flow"
   ]
  },
  {
   "cell_type": "code",
   "execution_count": 15,
   "id": "8c8cd5e4",
   "metadata": {},
   "outputs": [],
   "source": [
    "def double(x):\n",
    "    sleep(1)\n",
    "    return 2 * x\n",
    "\n",
    "def is_even(x):\n",
    "    return not x % 2\n",
    "\n",
    "data = [1, 2, 3, 4, 5, 6, 7, 8, 9, 10]\n"
   ]
  },
  {
   "cell_type": "code",
   "execution_count": 16,
   "id": "fc40c7b6",
   "metadata": {},
   "outputs": [
    {
     "name": "stdout",
     "output_type": "stream",
     "text": [
      "90\n",
      "CPU times: user 9.96 ms, sys: 0 ns, total: 9.96 ms\n",
      "Wall time: 10 s\n"
     ]
    }
   ],
   "source": [
    "%%time\n",
    "# Sequential code\n",
    "\n",
    "results = []\n",
    "for x in data:\n",
    "    if is_even(x):\n",
    "        y = double(x)\n",
    "    else:\n",
    "        y = inc(x)\n",
    "    results.append(y)\n",
    "\n",
    "total = sum(results)\n",
    "print(total)"
   ]
  },
  {
   "cell_type": "code",
   "execution_count": 17,
   "id": "206ded04",
   "metadata": {},
   "outputs": [
    {
     "name": "stdout",
     "output_type": "stream",
     "text": [
      "CPU times: user 4.81 ms, sys: 0 ns, total: 4.81 ms\n",
      "Wall time: 2.76 ms\n"
     ]
    }
   ],
   "source": [
    "%%time\n",
    "results = []\n",
    "for x in data:\n",
    "    if is_even(x):  # even\n",
    "        y = delayed(double)(x)\n",
    "    else:          # odd\n",
    "        y = delayed(inc)(x)\n",
    "    results.append(y)\n",
    "\n",
    "total = delayed(sum)(results)"
   ]
  },
  {
   "cell_type": "code",
   "execution_count": 18,
   "id": "41a9e567",
   "metadata": {},
   "outputs": [
    {
     "name": "stdout",
     "output_type": "stream",
     "text": [
      "CPU times: user 11.6 ms, sys: 0 ns, total: 11.6 ms\n",
      "Wall time: 1.02 s\n"
     ]
    },
    {
     "data": {
      "text/plain": [
       "90"
      ]
     },
     "execution_count": 18,
     "metadata": {},
     "output_type": "execute_result"
    }
   ],
   "source": [
    "%time total.compute()"
   ]
  },
  {
   "cell_type": "code",
   "execution_count": 19,
   "id": "ea208f5c",
   "metadata": {},
   "outputs": [
    {
     "data": {
      "image/png": "[encoded data removed]",
      "text/plain": [
       "<IPython.core.display.Image object>"
      ]
     },
     "execution_count": 19,
     "metadata": {},
     "output_type": "execute_result"
    }
   ],
   "source": [
    "total.visualize()"
   ]
  },
  {
   "cell_type": "markdown",
   "id": "cf792846",
   "metadata": {},
   "source": [
    "### Demo with Pandas "
   ]
  },
  {
   "cell_type": "code",
   "execution_count": 69,
   "id": "803499fd",
   "metadata": {},
   "outputs": [
    {
     "data": {
      "text/plain": [
       "['1990.csv',\n",
       " '1991.csv',\n",
       " '1992.csv',\n",
       " '1993.csv',\n",
       " '1994.csv',\n",
       " '1995.csv',\n",
       " '1996.csv',\n",
       " '1997.csv',\n",
       " '1998.csv',\n",
       " '1999.csv',\n",
       " '2000.csv',\n",
       " '2001.csv',\n",
       " '2002.csv',\n",
       " '2003.csv',\n",
       " '2004.csv',\n",
       " '2005.csv',\n",
       " '2006.csv',\n",
       " '2007.csv',\n",
       " '2008.csv']"
      ]
     },
     "execution_count": 69,
     "metadata": {},
     "output_type": "execute_result"
    }
   ],
   "source": [
    "import os\n",
    "# You must change this with your own path\n",
    "path = '/mnt/d/work/vhio/code/dask-demo/data/'\n",
    "sorted(os.listdir(path))"
   ]
  },
  {
   "cell_type": "code",
   "execution_count": 71,
   "id": "0cc3a9b0",
   "metadata": {},
   "outputs": [
    {
     "data": {
      "text/html": [
       "<div>\n",
       "<style scoped>\n",
       "    .dataframe tbody tr th:only-of-type {\n",
       "        vertical-align: middle;\n",
       "    }\n",
       "\n",
       "    .dataframe tbody tr th {\n",
       "        vertical-align: top;\n",
       "    }\n",
       "\n",
       "    .dataframe thead th {\n",
       "        text-align: right;\n",
       "    }\n",
       "</style>\n",
       "<table border=\"1\" class=\"dataframe\">\n",
       "  <thead>\n",
       "    <tr style=\"text-align: right;\">\n",
       "      <th></th>\n",
       "      <th>Year</th>\n",
       "      <th>Month</th>\n",
       "      <th>DayofMonth</th>\n",
       "      <th>DayOfWeek</th>\n",
       "      <th>DepTime</th>\n",
       "      <th>CRSDepTime</th>\n",
       "      <th>ArrTime</th>\n",
       "      <th>CRSArrTime</th>\n",
       "      <th>UniqueCarrier</th>\n",
       "      <th>FlightNum</th>\n",
       "      <th>...</th>\n",
       "      <th>TaxiIn</th>\n",
       "      <th>TaxiOut</th>\n",
       "      <th>Cancelled</th>\n",
       "      <th>CancellationCode</th>\n",
       "      <th>Diverted</th>\n",
       "      <th>CarrierDelay</th>\n",
       "      <th>WeatherDelay</th>\n",
       "      <th>NASDelay</th>\n",
       "      <th>SecurityDelay</th>\n",
       "      <th>LateAircraftDelay</th>\n",
       "    </tr>\n",
       "  </thead>\n",
       "  <tbody>\n",
       "    <tr>\n",
       "      <th>0</th>\n",
       "      <td>1990</td>\n",
       "      <td>1</td>\n",
       "      <td>3</td>\n",
       "      <td>3</td>\n",
       "      <td>1707.0</td>\n",
       "      <td>1630</td>\n",
       "      <td>1755.0</td>\n",
       "      <td>1723</td>\n",
       "      <td>US</td>\n",
       "      <td>29</td>\n",
       "      <td>...</td>\n",
       "      <td>NaN</td>\n",
       "      <td>NaN</td>\n",
       "      <td>0</td>\n",
       "      <td>NaN</td>\n",
       "      <td>0</td>\n",
       "      <td>NaN</td>\n",
       "      <td>NaN</td>\n",
       "      <td>NaN</td>\n",
       "      <td>NaN</td>\n",
       "      <td>NaN</td>\n",
       "    </tr>\n",
       "    <tr>\n",
       "      <th>1</th>\n",
       "      <td>1990</td>\n",
       "      <td>1</td>\n",
       "      <td>4</td>\n",
       "      <td>4</td>\n",
       "      <td>1706.0</td>\n",
       "      <td>1630</td>\n",
       "      <td>1807.0</td>\n",
       "      <td>1723</td>\n",
       "      <td>US</td>\n",
       "      <td>29</td>\n",
       "      <td>...</td>\n",
       "      <td>NaN</td>\n",
       "      <td>NaN</td>\n",
       "      <td>0</td>\n",
       "      <td>NaN</td>\n",
       "      <td>0</td>\n",
       "      <td>NaN</td>\n",
       "      <td>NaN</td>\n",
       "      <td>NaN</td>\n",
       "      <td>NaN</td>\n",
       "      <td>NaN</td>\n",
       "    </tr>\n",
       "    <tr>\n",
       "      <th>2</th>\n",
       "      <td>1990</td>\n",
       "      <td>1</td>\n",
       "      <td>5</td>\n",
       "      <td>5</td>\n",
       "      <td>1629.0</td>\n",
       "      <td>1630</td>\n",
       "      <td>1715.0</td>\n",
       "      <td>1723</td>\n",
       "      <td>US</td>\n",
       "      <td>29</td>\n",
       "      <td>...</td>\n",
       "      <td>NaN</td>\n",
       "      <td>NaN</td>\n",
       "      <td>0</td>\n",
       "      <td>NaN</td>\n",
       "      <td>0</td>\n",
       "      <td>NaN</td>\n",
       "      <td>NaN</td>\n",
       "      <td>NaN</td>\n",
       "      <td>NaN</td>\n",
       "      <td>NaN</td>\n",
       "    </tr>\n",
       "    <tr>\n",
       "      <th>3</th>\n",
       "      <td>1990</td>\n",
       "      <td>1</td>\n",
       "      <td>6</td>\n",
       "      <td>6</td>\n",
       "      <td>1633.0</td>\n",
       "      <td>1630</td>\n",
       "      <td>1718.0</td>\n",
       "      <td>1723</td>\n",
       "      <td>US</td>\n",
       "      <td>29</td>\n",
       "      <td>...</td>\n",
       "      <td>NaN</td>\n",
       "      <td>NaN</td>\n",
       "      <td>0</td>\n",
       "      <td>NaN</td>\n",
       "      <td>0</td>\n",
       "      <td>NaN</td>\n",
       "      <td>NaN</td>\n",
       "      <td>NaN</td>\n",
       "      <td>NaN</td>\n",
       "      <td>NaN</td>\n",
       "    </tr>\n",
       "    <tr>\n",
       "      <th>4</th>\n",
       "      <td>1990</td>\n",
       "      <td>1</td>\n",
       "      <td>8</td>\n",
       "      <td>1</td>\n",
       "      <td>1630.0</td>\n",
       "      <td>1630</td>\n",
       "      <td>1726.0</td>\n",
       "      <td>1723</td>\n",
       "      <td>US</td>\n",
       "      <td>29</td>\n",
       "      <td>...</td>\n",
       "      <td>NaN</td>\n",
       "      <td>NaN</td>\n",
       "      <td>0</td>\n",
       "      <td>NaN</td>\n",
       "      <td>0</td>\n",
       "      <td>NaN</td>\n",
       "      <td>NaN</td>\n",
       "      <td>NaN</td>\n",
       "      <td>NaN</td>\n",
       "      <td>NaN</td>\n",
       "    </tr>\n",
       "  </tbody>\n",
       "</table>\n",
       "<p>5 rows × 29 columns</p>\n",
       "</div>"
      ],
      "text/plain": [
       "   Year  Month  DayofMonth  DayOfWeek  DepTime  CRSDepTime  ArrTime  \\\n",
       "0  1990      1           3          3   1707.0        1630   1755.0   \n",
       "1  1990      1           4          4   1706.0        1630   1807.0   \n",
       "2  1990      1           5          5   1629.0        1630   1715.0   \n",
       "3  1990      1           6          6   1633.0        1630   1718.0   \n",
       "4  1990      1           8          1   1630.0        1630   1726.0   \n",
       "\n",
       "   CRSArrTime UniqueCarrier  FlightNum  ...  TaxiIn  TaxiOut  Cancelled  \\\n",
       "0        1723            US         29  ...     NaN      NaN          0   \n",
       "1        1723            US         29  ...     NaN      NaN          0   \n",
       "2        1723            US         29  ...     NaN      NaN          0   \n",
       "3        1723            US         29  ...     NaN      NaN          0   \n",
       "4        1723            US         29  ...     NaN      NaN          0   \n",
       "\n",
       "   CancellationCode  Diverted  CarrierDelay WeatherDelay NASDelay  \\\n",
       "0               NaN         0           NaN          NaN      NaN   \n",
       "1               NaN         0           NaN          NaN      NaN   \n",
       "2               NaN         0           NaN          NaN      NaN   \n",
       "3               NaN         0           NaN          NaN      NaN   \n",
       "4               NaN         0           NaN          NaN      NaN   \n",
       "\n",
       "   SecurityDelay  LateAircraftDelay  \n",
       "0            NaN                NaN  \n",
       "1            NaN                NaN  \n",
       "2            NaN                NaN  \n",
       "3            NaN                NaN  \n",
       "4            NaN                NaN  \n",
       "\n",
       "[5 rows x 29 columns]"
      ]
     },
     "execution_count": 71,
     "metadata": {},
     "output_type": "execute_result"
    }
   ],
   "source": [
    "import pandas as pd\n",
    "df = pd.read_csv(os.path.join(path, '1990.csv'))\n",
    "df.head()"
   ]
  },
  {
   "cell_type": "code",
   "execution_count": 72,
   "id": "53045a72",
   "metadata": {},
   "outputs": [
    {
     "data": {
      "text/plain": [
       "Year                   int64\n",
       "Month                  int64\n",
       "DayofMonth             int64\n",
       "DayOfWeek              int64\n",
       "DepTime              float64\n",
       "CRSDepTime             int64\n",
       "ArrTime              float64\n",
       "CRSArrTime             int64\n",
       "UniqueCarrier         object\n",
       "FlightNum              int64\n",
       "TailNum              float64\n",
       "ActualElapsedTime    float64\n",
       "CRSElapsedTime         int64\n",
       "AirTime              float64\n",
       "ArrDelay             float64\n",
       "DepDelay             float64\n",
       "Origin                object\n",
       "Dest                  object\n",
       "Distance             float64\n",
       "TaxiIn               float64\n",
       "TaxiOut              float64\n",
       "Cancelled              int64\n",
       "CancellationCode     float64\n",
       "Diverted               int64\n",
       "CarrierDelay         float64\n",
       "WeatherDelay         float64\n",
       "NASDelay             float64\n",
       "SecurityDelay        float64\n",
       "LateAircraftDelay    float64\n",
       "dtype: object"
      ]
     },
     "execution_count": 72,
     "metadata": {},
     "output_type": "execute_result"
    }
   ],
   "source": [
    "# Schema\n",
    "df.dtypes"
   ]
  },
  {
   "cell_type": "code",
   "execution_count": 73,
   "id": "cc7d3048",
   "metadata": {},
   "outputs": [
    {
     "data": {
      "text/plain": [
       "array(['CMH', 'IND', 'LAX', 'PHL', 'PIT', 'SFO', 'BDL', 'MSY', 'EWR',\n",
       "       'BWI', 'MCI', 'SAN', 'MDT', 'MCO', 'LGA', 'PSP', 'TPA', 'IAD',\n",
       "       'DAY', 'CLE', 'ABE', 'ISP', 'BUR', 'DCA', 'PHX', 'FLL', 'PVD',\n",
       "       'ABQ', 'TUS', 'TYS', 'LAS', 'MIA', 'SYR', 'DTW', 'BOS', 'EVV',\n",
       "       'BTV', 'PBI', 'OAK', 'ERI', 'ONT', 'PDX', 'ROC', 'CLT', 'SEA',\n",
       "       'SNA', 'GRR', 'DFW', 'AVP', 'IAH', 'ORD', 'JFK', 'RIC', 'RNO',\n",
       "       'BUF', 'TOL', 'SAV', 'SMF', 'RDU', 'CVG', 'STL', 'PHF', 'MKE',\n",
       "       'ALB', 'BNA', 'MEM', 'FWA', 'ELM', 'CRW', 'ATL', 'JAX', 'ORH',\n",
       "       'MSP', 'SDF', 'LEX', 'BGM', 'CAE', 'CHS', 'MHT', 'MYR', 'BHM',\n",
       "       'MDW', 'ORF', 'ITH', 'GSO', 'GSP', 'TRI', 'RSW', 'PWM', 'SRQ',\n",
       "       'AVL', 'LGB', 'SJC', 'ACY', 'HTS', 'ICT', 'BLI', 'SBN', 'AZO',\n",
       "       'ROA', 'DAB', 'CAK', 'SJU', 'CHO', 'FNT', 'UCA', 'DEN', 'TLH',\n",
       "       'LYH', 'CMI', 'EYW', 'FAY', 'ILM', 'PNS', 'ISO', 'MLB', 'AGS',\n",
       "       'GNV', 'LAN', 'SAT', 'CHA', 'OAJ', 'AUS', 'FAT', 'SCK', 'CCR',\n",
       "       'MRY', 'EUG', 'MFR', 'DAL', 'HOU', 'AMA', 'LIT', 'HRL', 'TUL',\n",
       "       'CRP', 'OKC', 'LBB', 'MAF', 'ELP', 'DET', 'DLH', 'FSD', 'BIS',\n",
       "       'ATW', 'GRB', 'FAR', 'MBS', 'BIL', 'BZN', 'DSM', 'RST', 'MSN',\n",
       "       'OMA', 'CID', 'LSE', 'MOT', 'GFK', 'BTR', 'GEG', 'RAP', 'JAN',\n",
       "       'SLC', 'GTF', 'MSO', 'MOB', 'VPS', 'GPT', 'HSV', 'HPN', 'SHV',\n",
       "       'HDN', 'TVC', 'HNL', 'STT', 'STX', 'COS', 'SUX', 'LNK', 'PUB',\n",
       "       'MLI', 'SGF', 'PIA', 'ANC', 'FAI', 'KOA', 'OGG', 'SBA', 'BGR',\n",
       "       'BOI', 'LIH', 'MGM', 'MLU', 'CSG', 'CPR', 'HLN', 'JAC', 'FCA',\n",
       "       'GUC', 'PSC', 'IDA', 'BTM', 'JNU', 'DRO', 'GJT', 'PMD', 'EGE',\n",
       "       'SUN', 'YUM', 'FLG', 'GCN', 'BFL', 'TVL', 'BET', 'OME', 'OTZ',\n",
       "       'SCC', 'KTN', 'CDV', 'YAK', 'SIT', 'PSG', 'WRG', 'RDM', 'GUM',\n",
       "       'LFT', 'MFE', 'YAP', 'ROR', 'SPN', 'SWF', 'GST', 'ROP', 'EFD',\n",
       "       'PSE'], dtype=object)"
      ]
     },
     "execution_count": 73,
     "metadata": {},
     "output_type": "execute_result"
    }
   ],
   "source": [
    "df.Origin.unique()"
   ]
  },
  {
   "cell_type": "code",
   "execution_count": 74,
   "id": "6c69cd20",
   "metadata": {},
   "outputs": [
    {
     "data": {
      "text/plain": [
       "Origin\n",
       "ABE     5.004711\n",
       "ABQ     7.319594\n",
       "ACY     4.770252\n",
       "AGS     6.651299\n",
       "ALB     5.984751\n",
       "         ...    \n",
       "VPS    -0.122316\n",
       "WRG     9.496835\n",
       "YAK     5.256449\n",
       "YAP    28.145985\n",
       "YUM     2.448757\n",
       "Name: DepDelay, Length: 235, dtype: float64"
      ]
     },
     "execution_count": 74,
     "metadata": {},
     "output_type": "execute_result"
    }
   ],
   "source": [
    "# Mean departure delay per-airport for one year\n",
    "df.groupby('Origin').DepDelay.mean()"
   ]
  },
  {
   "cell_type": "markdown",
   "id": "065a4f08",
   "metadata": {},
   "source": [
    "### Sequential code: Mean Departure Delay Per Airport"
   ]
  },
  {
   "cell_type": "code",
   "execution_count": 88,
   "id": "198bf029",
   "metadata": {},
   "outputs": [],
   "source": [
    "from glob import glob\n",
    "filenames = sorted(glob(os.path.join(path, '*.csv')))"
   ]
  },
  {
   "cell_type": "code",
   "execution_count": 89,
   "id": "5cbe5a37",
   "metadata": {},
   "outputs": [
    {
     "name": "stdout",
     "output_type": "stream",
     "text": [
      "CPU times: user 23.3 s, sys: 1.85 s, total: 25.2 s\n",
      "Wall time: 28.4 s\n"
     ]
    }
   ],
   "source": [
    "%%time\n",
    "\n",
    "sums = []\n",
    "counts = []\n",
    "for fn in filenames:\n",
    "    # Read in file\n",
    "    df = pd.read_csv(fn,encoding='ISO-8859-1')\n",
    "\n",
    "    # Groupby origin airport\n",
    "    by_origin = df.groupby('Origin')\n",
    "\n",
    "    # Sum of all departure delays by origin\n",
    "    total = by_origin.DepDelay.sum()\n",
    "\n",
    "    # Number of flights by origin\n",
    "    count = by_origin.DepDelay.count()\n",
    "\n",
    "    # Save the intermediates\n",
    "    sums.append(total)\n",
    "    counts.append(count)\n",
    "\n",
    "# Combine intermediates to get total mean-delay-per-origin\n",
    "total_delays = sum(sums)\n",
    "n_flights = sum(counts)\n",
    "mean = total_delays / n_flights"
   ]
  },
  {
   "cell_type": "code",
   "execution_count": 90,
   "id": "2cc72772",
   "metadata": {},
   "outputs": [
    {
     "data": {
      "text/plain": [
       "Origin\n",
       "ABE    4.251264\n",
       "ABQ    5.521551\n",
       "ACK         NaN\n",
       "ACY    3.334919\n",
       "ADQ         NaN\n",
       "         ...   \n",
       "VPS   -0.927523\n",
       "WRG    9.124138\n",
       "YAK    6.303154\n",
       "YAP         NaN\n",
       "YUM         NaN\n",
       "Name: DepDelay, Length: 252, dtype: float64"
      ]
     },
     "execution_count": 90,
     "metadata": {},
     "output_type": "execute_result"
    }
   ],
   "source": [
    "mean"
   ]
  },
  {
   "cell_type": "markdown",
   "id": "aa651c37",
   "metadata": {},
   "source": [
    "### Parallelize the code above"
   ]
  },
  {
   "cell_type": "code",
   "execution_count": 91,
   "id": "a247439d",
   "metadata": {},
   "outputs": [],
   "source": [
    "from dask import compute"
   ]
  },
  {
   "cell_type": "code",
   "execution_count": 93,
   "id": "787a34c3",
   "metadata": {},
   "outputs": [
    {
     "name": "stdout",
     "output_type": "stream",
     "text": [
      "CPU times: user 47.3 ms, sys: 9.6 ms, total: 56.9 ms\n",
      "Wall time: 13.9 s\n"
     ]
    }
   ],
   "source": [
    "%%time\n",
    "\n",
    "# This is just one possible solution, there are\n",
    "# several ways to do this using `delayed`\n",
    "\n",
    "sums = []\n",
    "counts = []\n",
    "for fn in filenames:\n",
    "    # Read in file\n",
    "    df = delayed(pd.read_csv)(fn)\n",
    "\n",
    "    # Groupby origin airport\n",
    "    by_origin = df.groupby('Origin')\n",
    "\n",
    "    # Sum of all departure delays by origin\n",
    "    total = by_origin.DepDelay.sum()\n",
    "\n",
    "    # Number of flights by origin\n",
    "    count = by_origin.DepDelay.count()\n",
    "\n",
    "    # Save the intermediates\n",
    "    sums.append(total)\n",
    "    counts.append(count)\n",
    "\n",
    "# Compute the intermediates\n",
    "sums, counts = compute(sums, counts)\n",
    "\n",
    "# Combine intermediates to get total mean-delay-per-origin\n",
    "total_delays = sum(sums)\n",
    "n_flights = sum(counts)\n",
    "mean = total_delays / n_flights"
   ]
  },
  {
   "cell_type": "code",
   "execution_count": 94,
   "id": "5c33bcc2",
   "metadata": {},
   "outputs": [
    {
     "data": {
      "text/plain": [
       "Origin\n",
       "ABE    4.251264\n",
       "ABQ    5.521551\n",
       "ACK         NaN\n",
       "ACY    3.334919\n",
       "ADQ         NaN\n",
       "         ...   \n",
       "VPS   -0.927523\n",
       "WRG    9.124138\n",
       "YAK    6.303154\n",
       "YAP         NaN\n",
       "YUM         NaN\n",
       "Name: DepDelay, Length: 252, dtype: float64"
      ]
     },
     "execution_count": 94,
     "metadata": {},
     "output_type": "execute_result"
    }
   ],
   "source": [
    "mean"
   ]
  },
  {
   "cell_type": "markdown",
   "id": "646e2d97",
   "metadata": {},
   "source": [
    "### Always at the end close the client"
   ]
  },
  {
   "cell_type": "code",
   "execution_count": null,
   "id": "f0c37817",
   "metadata": {},
   "outputs": [],
   "source": [
    "client.close()"
   ]
  }
 ],
 "metadata": {
  "kernelspec": {
   "display_name": "Python 3.8.5 ('dask')",
   "language": "python",
   "name": "python3"
  },
  "language_info": {
   "codemirror_mode": {
    "name": "ipython",
    "version": 3
   },
   "file_extension": ".py",
   "mimetype": "text/x-python",
   "name": "python",
   "nbconvert_exporter": "python",
   "pygments_lexer": "ipython3",
   "version": "3.8.5"
  },
  "vscode": {
   "interpreter": {
    "hash": "fb1a9631e3e65a2ec2250b76ac73c8e28febe8e902a7ba7274eb5c25206a50f4"
   }
  }
 },
 "nbformat": 4,
 "nbformat_minor": 5
}
