{
 "cells": [
  {
   "cell_type": "markdown",
   "id": "c7a95bfa",
   "metadata": {},
   "source": [
    "## Simple Dask Demo"
   ]
  },
  {
   "cell_type": "markdown",
   "id": "ba957085",
   "metadata": {},
   "source": [
    "### Simple Code"
   ]
  },
  {
   "cell_type": "code",
   "execution_count": 1,
   "id": "89a351a0-83ec-4ad4-9cef-a9a31d8296bf",
   "metadata": {},
   "outputs": [],
   "source": [
    "from time import sleep\n",
    "\n",
    "def inc(x):\n",
    "    sleep(1)\n",
    "    return x + 1\n",
    "\n",
    "def add(x, y):\n",
    "    sleep(1)\n",
    "    return x + y"
   ]
  },
  {
   "cell_type": "code",
   "execution_count": 2,
   "id": "960cff2f-b6d8-4213-a504-933b0af115c5",
   "metadata": {},
   "outputs": [
    {
     "name": "stdout",
     "output_type": "stream",
     "text": [
      "CPU times: user 1.98 ms, sys: 247 µs, total: 2.22 ms\n",
      "Wall time: 3 s\n"
     ]
    }
   ],
   "source": [
    "%%time\n",
    "# This takes three seconds to run because we call each\n",
    "# function sequentially, one after the other\n",
    "\n",
    "x = inc(1)\n",
    "y = inc(2)\n",
    "z = add(x, y)"
   ]
  },
  {
   "cell_type": "markdown",
   "id": "152b37c4",
   "metadata": {},
   "source": []
  },
  {
   "cell_type": "markdown",
   "id": "d62e1309",
   "metadata": {},
   "source": [
    "### Parallelize with the <i><small>dask.delayed</small></i> decorator"
   ]
  },
  {
   "cell_type": "markdown",
   "id": "45eedc21",
   "metadata": {},
   "source": []
  },
  {
   "cell_type": "code",
   "execution_count": 3,
   "id": "edc18a17",
   "metadata": {},
   "outputs": [],
   "source": [
    "from dask import delayed"
   ]
  },
  {
   "cell_type": "code",
   "execution_count": 4,
   "id": "5e0d5ba8",
   "metadata": {},
   "outputs": [
    {
     "name": "stdout",
     "output_type": "stream",
     "text": [
      "CPU times: user 2.14 ms, sys: 206 µs, total: 2.35 ms\n",
      "Wall time: 1.08 ms\n"
     ]
    }
   ],
   "source": [
    "%%time\n",
    "# This runs immediately, all it does is build a graph\n",
    "\n",
    "x = delayed(inc)(1)\n",
    "y = delayed(inc)(2)\n",
    "z = delayed(add)(x, y)"
   ]
  },
  {
   "cell_type": "markdown",
   "id": "ca35769f",
   "metadata": {},
   "source": [
    "### Compute the real value"
   ]
  },
  {
   "cell_type": "code",
   "execution_count": 5,
   "id": "0671d8b6",
   "metadata": {},
   "outputs": [
    {
     "name": "stdout",
     "output_type": "stream",
     "text": [
      "CPU times: user 4.26 ms, sys: 402 µs, total: 4.66 ms\n",
      "Wall time: 2 s\n"
     ]
    },
    {
     "data": {
      "text/plain": [
       "5"
      ]
     },
     "execution_count": 5,
     "metadata": {},
     "output_type": "execute_result"
    }
   ],
   "source": [
    "%%time\n",
    "# This actually runs our computation using a local thread pool\n",
    "\n",
    "z.compute()"
   ]
  },
  {
   "cell_type": "markdown",
   "id": "4788af8d",
   "metadata": {},
   "source": [
    "### Type Delayed"
   ]
  },
  {
   "cell_type": "code",
   "execution_count": 6,
   "id": "9d5c49ab",
   "metadata": {},
   "outputs": [
    {
     "data": {
      "text/plain": [
       "Delayed('add-dbe25942-ce98-4e4c-8559-3a5aaca85991')"
      ]
     },
     "execution_count": 6,
     "metadata": {},
     "output_type": "execute_result"
    }
   ],
   "source": [
    "z"
   ]
  },
  {
   "cell_type": "markdown",
   "id": "2712878d",
   "metadata": {},
   "source": [
    "### View the exec plan"
   ]
  },
  {
   "cell_type": "code",
   "execution_count": 7,
   "id": "a38bf1e3",
   "metadata": {},
   "outputs": [
    {
     "data": {
      "image/svg+xml": "<svg xmlns=\"http://www.w3.org/2000/svg\" xmlns:xlink=\"http://www.w3.org/1999/xlink\" width=\"134pt\" height=\"292pt\" viewBox=\"0.00 0.00 134.00 291.99\">\n<g id=\"graph0\" class=\"graph\" transform=\"scale(1 1) rotate(0) translate(4 287.99)\">\n<title>%3</title>\n<polygon fill=\"white\" stroke=\"transparent\" points=\"-4,4 -4,-287.99 130,-287.99 130,4 -4,4\"/>\n<!-- &#45;6877695859365893251 -->\n<g id=\"node1\" class=\"node\">\n<title>-6877695859365893251</title>\n<ellipse fill=\"none\" stroke=\"black\" cx=\"63\" cy=\"-184.04\" rx=\"27.9\" ry=\"27.9\"/>\n<text text-anchor=\"middle\" x=\"63\" y=\"-180.34\" font-family=\"Helvetica,sans-Serif\" font-size=\"14.00\">add</text>\n</g>\n<!-- 7474451956049306897 -->\n<g id=\"node2\" class=\"node\">\n<title>7474451956049306897</title>\n<polygon fill=\"none\" stroke=\"black\" points=\"90,-283.99 36,-283.99 36,-247.99 90,-247.99 90,-283.99\"/>\n</g>\n<!-- &#45;6877695859365893251&#45;&gt;7474451956049306897 -->\n<g id=\"edge1\" class=\"edge\">\n<title>-6877695859365893251-&gt;7474451956049306897</title>\n<path fill=\"none\" stroke=\"black\" d=\"M63,-212.11C63,-220.3 63,-229.3 63,-237.51\"/>\n<polygon fill=\"black\" stroke=\"black\" points=\"59.5,-237.73 63,-247.73 66.5,-237.73 59.5,-237.73\"/>\n</g>\n<!-- 1503949987007456631 -->\n<g id=\"node3\" class=\"node\">\n<title>1503949987007456631</title>\n<polygon fill=\"none\" stroke=\"black\" points=\"54,-120.1 0,-120.1 0,-84.1 54,-84.1 54,-120.1\"/>\n</g>\n<!-- 1503949987007456631&#45;&gt;&#45;6877695859365893251 -->\n<g id=\"edge2\" class=\"edge\">\n<title>1503949987007456631-&gt;-6877695859365893251</title>\n<path fill=\"none\" stroke=\"black\" d=\"M34.81,-120.44C38.57,-128.8 43.22,-139.11 47.65,-148.95\"/>\n<polygon fill=\"black\" stroke=\"black\" points=\"44.49,-150.46 51.79,-158.14 50.87,-147.59 44.49,-150.46\"/>\n</g>\n<!-- 3477550781370381175 -->\n<g id=\"node4\" class=\"node\">\n<title>3477550781370381175</title>\n<polygon fill=\"none\" stroke=\"black\" points=\"126,-120.1 72,-120.1 72,-84.1 126,-84.1 126,-120.1\"/>\n</g>\n<!-- 3477550781370381175&#45;&gt;&#45;6877695859365893251 -->\n<g id=\"edge3\" class=\"edge\">\n<title>3477550781370381175-&gt;-6877695859365893251</title>\n<path fill=\"none\" stroke=\"black\" d=\"M91.19,-120.44C87.43,-128.8 82.78,-139.11 78.35,-148.95\"/>\n<polygon fill=\"black\" stroke=\"black\" points=\"75.13,-147.59 74.21,-158.14 81.51,-150.46 75.13,-147.59\"/>\n</g>\n<!-- 6232609569760345269 -->\n<g id=\"node5\" class=\"node\">\n<title>6232609569760345269</title>\n<ellipse fill=\"none\" stroke=\"black\" cx=\"99\" cy=\"-24.05\" rx=\"24.1\" ry=\"24.1\"/>\n<text text-anchor=\"middle\" x=\"99\" y=\"-20.35\" font-family=\"Helvetica,sans-Serif\" font-size=\"14.00\">inc</text>\n</g>\n<!-- 6232609569760345269&#45;&gt;3477550781370381175 -->\n<g id=\"edge4\" class=\"edge\">\n<title>6232609569760345269-&gt;3477550781370381175</title>\n<path fill=\"none\" stroke=\"black\" d=\"M99,-48.28C99,-56.39 99,-65.56 99,-73.96\"/>\n<polygon fill=\"black\" stroke=\"black\" points=\"95.5,-74.04 99,-84.04 102.5,-74.04 95.5,-74.04\"/>\n</g>\n<!-- &#45;881722827968071067 -->\n<g id=\"node6\" class=\"node\">\n<title>-881722827968071067</title>\n<ellipse fill=\"none\" stroke=\"black\" cx=\"27\" cy=\"-24.05\" rx=\"24.1\" ry=\"24.1\"/>\n<text text-anchor=\"middle\" x=\"27\" y=\"-20.35\" font-family=\"Helvetica,sans-Serif\" font-size=\"14.00\">inc</text>\n</g>\n<!-- &#45;881722827968071067&#45;&gt;1503949987007456631 -->\n<g id=\"edge5\" class=\"edge\">\n<title>-881722827968071067-&gt;1503949987007456631</title>\n<path fill=\"none\" stroke=\"black\" d=\"M27,-48.28C27,-56.39 27,-65.56 27,-73.96\"/>\n<polygon fill=\"black\" stroke=\"black\" points=\"23.5,-74.04 27,-84.04 30.5,-74.04 23.5,-74.04\"/>\n</g>\n</g>\n</svg>",
      "text/plain": [
       "<IPython.core.display.SVG object>"
      ]
     },
     "execution_count": 7,
     "metadata": {},
     "output_type": "execute_result"
    }
   ],
   "source": [
    "# Look at the task graph for `z`\n",
    "z.visualize(filename='demo1.svg')"
   ]
  },
  {
   "cell_type": "markdown",
   "id": "64cf3f3a",
   "metadata": {},
   "source": [
    "### Parallelize a for loop"
   ]
  },
  {
   "cell_type": "code",
   "execution_count": 8,
   "id": "ab269851",
   "metadata": {},
   "outputs": [],
   "source": [
    "# Data \n",
    "data = [1, 2, 3, 4, 5, 6, 7, 8]"
   ]
  },
  {
   "cell_type": "code",
   "execution_count": 9,
   "id": "9780e0bc",
   "metadata": {},
   "outputs": [
    {
     "name": "stdout",
     "output_type": "stream",
     "text": [
      "CPU times: user 2.42 ms, sys: 209 µs, total: 2.63 ms\n",
      "Wall time: 8.01 s\n"
     ]
    }
   ],
   "source": [
    "%%time\n",
    "# Sequential code\n",
    "\n",
    "results = []\n",
    "for x in data:\n",
    "    y = inc(x)\n",
    "    results.append(y)\n",
    "\n",
    "total = sum(results)"
   ]
  },
  {
   "cell_type": "code",
   "execution_count": 10,
   "id": "6de56617",
   "metadata": {},
   "outputs": [
    {
     "data": {
      "text/plain": [
       "44"
      ]
     },
     "execution_count": 10,
     "metadata": {},
     "output_type": "execute_result"
    }
   ],
   "source": [
    "# Get Total value\n",
    "total"
   ]
  },
  {
   "cell_type": "code",
   "execution_count": 11,
   "id": "95659c71",
   "metadata": {},
   "outputs": [
    {
     "name": "stdout",
     "output_type": "stream",
     "text": [
      "Before computing: Delayed('sum-a5c1d71c-adf9-4d2a-93f7-a8179e438d1f')\n",
      "After computing : 44\n",
      "CPU times: user 7.41 ms, sys: 10.1 ms, total: 17.5 ms\n",
      "Wall time: 1.01 s\n"
     ]
    }
   ],
   "source": [
    "%%time\n",
    "# Parallel code\n",
    "results = []\n",
    "\n",
    "for x in data:\n",
    "    y = delayed(inc)(x)\n",
    "    results.append(y)\n",
    "\n",
    "total = delayed(sum)(results)\n",
    "print(\"Before computing:\", total)  # Let's see what type of thing total is\n",
    "result = total.compute()\n",
    "print(\"After computing :\", result)  # After it's computed"
   ]
  },
  {
   "cell_type": "code",
   "execution_count": 12,
   "id": "79557ec2",
   "metadata": {},
   "outputs": [
    {
     "data": {
      "text/plain": [
       "Delayed('sum-a5c1d71c-adf9-4d2a-93f7-a8179e438d1f')"
      ]
     },
     "execution_count": 12,
     "metadata": {},
     "output_type": "execute_result"
    }
   ],
   "source": [
    "# Delayed \n",
    "total"
   ]
  },
  {
   "cell_type": "code",
   "execution_count": 13,
   "id": "c03b74ae",
   "metadata": {},
   "outputs": [
    {
     "data": {
      "image/svg+xml": "<svg xmlns=\"http://www.w3.org/2000/svg\" xmlns:xlink=\"http://www.w3.org/1999/xlink\" width=\"566pt\" height=\"297pt\" viewBox=\"0.00 0.00 566.00 297.19\">\n<g id=\"graph0\" class=\"graph\" transform=\"scale(1 1) rotate(0) translate(4 293.19)\">\n<title>%3</title>\n<polygon fill=\"white\" stroke=\"transparent\" points=\"-4,4 -4,-293.19 562,-293.19 562,4 -4,4\"/>\n<!-- &#45;2675441027943653796 -->\n<g id=\"node1\" class=\"node\">\n<title>-2675441027943653796</title>\n<ellipse fill=\"none\" stroke=\"black\" cx=\"279\" cy=\"-186.64\" rx=\"30.59\" ry=\"30.59\"/>\n<text text-anchor=\"middle\" x=\"279\" y=\"-182.94\" font-family=\"Helvetica,sans-Serif\" font-size=\"14.00\">sum</text>\n</g>\n<!-- 1728432615986816687 -->\n<g id=\"node2\" class=\"node\">\n<title>1728432615986816687</title>\n<polygon fill=\"none\" stroke=\"black\" points=\"306,-289.19 252,-289.19 252,-253.19 306,-253.19 306,-289.19\"/>\n</g>\n<!-- &#45;2675441027943653796&#45;&gt;1728432615986816687 -->\n<g id=\"edge1\" class=\"edge\">\n<title>-2675441027943653796-&gt;1728432615986816687</title>\n<path fill=\"none\" stroke=\"black\" d=\"M279,-217.44C279,-225.79 279,-234.82 279,-243.01\"/>\n<polygon fill=\"black\" stroke=\"black\" points=\"275.5,-243.16 279,-253.16 282.5,-243.16 275.5,-243.16\"/>\n</g>\n<!-- &#45;2449875758952439744 -->\n<g id=\"node3\" class=\"node\">\n<title>-2449875758952439744</title>\n<polygon fill=\"none\" stroke=\"black\" points=\"54,-120.1 0,-120.1 0,-84.1 54,-84.1 54,-120.1\"/>\n</g>\n<!-- &#45;2449875758952439744&#45;&gt;&#45;2675441027943653796 -->\n<g id=\"edge2\" class=\"edge\">\n<title>-2449875758952439744-&gt;-2675441027943653796</title>\n<path fill=\"none\" stroke=\"black\" d=\"M54.34,-116.51C57.24,-117.78 60.16,-119 63,-120.1 123.55,-143.44 196.15,-164.01 239.87,-175.63\"/>\n<polygon fill=\"black\" stroke=\"black\" points=\"238.98,-179.01 249.54,-178.18 240.77,-172.24 238.98,-179.01\"/>\n</g>\n<!-- &#45;9116275356503140448 -->\n<g id=\"node4\" class=\"node\">\n<title>-9116275356503140448</title>\n<polygon fill=\"none\" stroke=\"black\" points=\"126,-120.1 72,-120.1 72,-84.1 126,-84.1 126,-120.1\"/>\n</g>\n<!-- &#45;9116275356503140448&#45;&gt;&#45;2675441027943653796 -->\n<g id=\"edge3\" class=\"edge\">\n<title>-9116275356503140448-&gt;-2675441027943653796</title>\n<path fill=\"none\" stroke=\"black\" d=\"M126.11,-115.95C129.11,-117.35 132.12,-118.76 135,-120.1 171.27,-136.91 212.84,-155.8 241.97,-168.96\"/>\n<polygon fill=\"black\" stroke=\"black\" points=\"240.79,-172.27 251.34,-173.19 243.67,-165.89 240.79,-172.27\"/>\n</g>\n<!-- 9071540844813480934 -->\n<g id=\"node5\" class=\"node\">\n<title>9071540844813480934</title>\n<polygon fill=\"none\" stroke=\"black\" points=\"198,-120.1 144,-120.1 144,-84.1 198,-84.1 198,-120.1\"/>\n</g>\n<!-- 9071540844813480934&#45;&gt;&#45;2675441027943653796 -->\n<g id=\"edge4\" class=\"edge\">\n<title>9071540844813480934-&gt;-2675441027943653796</title>\n<path fill=\"none\" stroke=\"black\" d=\"M193.38,-120.2C208.88,-132.05 229.76,-148 247.01,-161.19\"/>\n<polygon fill=\"black\" stroke=\"black\" points=\"245.08,-164.12 255.15,-167.42 249.33,-158.56 245.08,-164.12\"/>\n</g>\n<!-- 8416983202166473680 -->\n<g id=\"node6\" class=\"node\">\n<title>8416983202166473680</title>\n<polygon fill=\"none\" stroke=\"black\" points=\"270,-120.1 216,-120.1 216,-84.1 270,-84.1 270,-120.1\"/>\n</g>\n<!-- 8416983202166473680&#45;&gt;&#45;2675441027943653796 -->\n<g id=\"edge5\" class=\"edge\">\n<title>8416983202166473680-&gt;-2675441027943653796</title>\n<path fill=\"none\" stroke=\"black\" d=\"M250.46,-120.2C254.08,-128.5 258.58,-138.82 262.93,-148.79\"/>\n<polygon fill=\"black\" stroke=\"black\" points=\"259.81,-150.4 267.02,-158.16 266.23,-147.6 259.81,-150.4\"/>\n</g>\n<!-- 1451570914262887441 -->\n<g id=\"node7\" class=\"node\">\n<title>1451570914262887441</title>\n<polygon fill=\"none\" stroke=\"black\" points=\"342,-120.1 288,-120.1 288,-84.1 342,-84.1 342,-120.1\"/>\n</g>\n<!-- 1451570914262887441&#45;&gt;&#45;2675441027943653796 -->\n<g id=\"edge6\" class=\"edge\">\n<title>1451570914262887441-&gt;-2675441027943653796</title>\n<path fill=\"none\" stroke=\"black\" d=\"M307.54,-120.2C303.92,-128.5 299.42,-138.82 295.07,-148.79\"/>\n<polygon fill=\"black\" stroke=\"black\" points=\"291.77,-147.6 290.98,-158.16 298.19,-150.4 291.77,-147.6\"/>\n</g>\n<!-- &#45;2060903012870357197 -->\n<g id=\"node8\" class=\"node\">\n<title>-2060903012870357197</title>\n<polygon fill=\"none\" stroke=\"black\" points=\"414,-120.1 360,-120.1 360,-84.1 414,-84.1 414,-120.1\"/>\n</g>\n<!-- &#45;2060903012870357197&#45;&gt;&#45;2675441027943653796 -->\n<g id=\"edge7\" class=\"edge\">\n<title>-2060903012870357197-&gt;-2675441027943653796</title>\n<path fill=\"none\" stroke=\"black\" d=\"M364.62,-120.2C349.12,-132.05 328.24,-148 310.99,-161.19\"/>\n<polygon fill=\"black\" stroke=\"black\" points=\"308.67,-158.56 302.85,-167.42 312.92,-164.12 308.67,-158.56\"/>\n</g>\n<!-- 3032206297290410876 -->\n<g id=\"node9\" class=\"node\">\n<title>3032206297290410876</title>\n<polygon fill=\"none\" stroke=\"black\" points=\"486,-120.1 432,-120.1 432,-84.1 486,-84.1 486,-120.1\"/>\n</g>\n<!-- 3032206297290410876&#45;&gt;&#45;2675441027943653796 -->\n<g id=\"edge8\" class=\"edge\">\n<title>3032206297290410876-&gt;-2675441027943653796</title>\n<path fill=\"none\" stroke=\"black\" d=\"M431.89,-115.95C428.89,-117.35 425.88,-118.76 423,-120.1 386.73,-136.91 345.16,-155.8 316.03,-168.96\"/>\n<polygon fill=\"black\" stroke=\"black\" points=\"314.33,-165.89 306.66,-173.19 317.21,-172.27 314.33,-165.89\"/>\n</g>\n<!-- &#45;2420848870745026817 -->\n<g id=\"node10\" class=\"node\">\n<title>-2420848870745026817</title>\n<polygon fill=\"none\" stroke=\"black\" points=\"558,-120.1 504,-120.1 504,-84.1 558,-84.1 558,-120.1\"/>\n</g>\n<!-- &#45;2420848870745026817&#45;&gt;&#45;2675441027943653796 -->\n<g id=\"edge9\" class=\"edge\">\n<title>-2420848870745026817-&gt;-2675441027943653796</title>\n<path fill=\"none\" stroke=\"black\" d=\"M503.66,-116.51C500.76,-117.78 497.84,-119 495,-120.1 434.45,-143.44 361.85,-164.01 318.13,-175.63\"/>\n<polygon fill=\"black\" stroke=\"black\" points=\"317.23,-172.24 308.46,-178.18 319.02,-179.01 317.23,-172.24\"/>\n</g>\n<!-- &#45;679665804673641549 -->\n<g id=\"node11\" class=\"node\">\n<title>-679665804673641549</title>\n<ellipse fill=\"none\" stroke=\"black\" cx=\"315\" cy=\"-24.05\" rx=\"24.1\" ry=\"24.1\"/>\n<text text-anchor=\"middle\" x=\"315\" y=\"-20.35\" font-family=\"Helvetica,sans-Serif\" font-size=\"14.00\">inc</text>\n</g>\n<!-- &#45;679665804673641549&#45;&gt;1451570914262887441 -->\n<g id=\"edge10\" class=\"edge\">\n<title>-679665804673641549-&gt;1451570914262887441</title>\n<path fill=\"none\" stroke=\"black\" d=\"M315,-48.28C315,-56.39 315,-65.56 315,-73.96\"/>\n<polygon fill=\"black\" stroke=\"black\" points=\"311.5,-74.04 315,-84.04 318.5,-74.04 311.5,-74.04\"/>\n</g>\n<!-- 6386433077521712084 -->\n<g id=\"node12\" class=\"node\">\n<title>6386433077521712084</title>\n<ellipse fill=\"none\" stroke=\"black\" cx=\"387\" cy=\"-24.05\" rx=\"24.1\" ry=\"24.1\"/>\n<text text-anchor=\"middle\" x=\"387\" y=\"-20.35\" font-family=\"Helvetica,sans-Serif\" font-size=\"14.00\">inc</text>\n</g>\n<!-- 6386433077521712084&#45;&gt;&#45;2060903012870357197 -->\n<g id=\"edge11\" class=\"edge\">\n<title>6386433077521712084-&gt;-2060903012870357197</title>\n<path fill=\"none\" stroke=\"black\" d=\"M387,-48.28C387,-56.39 387,-65.56 387,-73.96\"/>\n<polygon fill=\"black\" stroke=\"black\" points=\"383.5,-74.04 387,-84.04 390.5,-74.04 383.5,-74.04\"/>\n</g>\n<!-- 5605017067196314504 -->\n<g id=\"node13\" class=\"node\">\n<title>5605017067196314504</title>\n<ellipse fill=\"none\" stroke=\"black\" cx=\"459\" cy=\"-24.05\" rx=\"24.1\" ry=\"24.1\"/>\n<text text-anchor=\"middle\" x=\"459\" y=\"-20.35\" font-family=\"Helvetica,sans-Serif\" font-size=\"14.00\">inc</text>\n</g>\n<!-- 5605017067196314504&#45;&gt;3032206297290410876 -->\n<g id=\"edge12\" class=\"edge\">\n<title>5605017067196314504-&gt;3032206297290410876</title>\n<path fill=\"none\" stroke=\"black\" d=\"M459,-48.28C459,-56.39 459,-65.56 459,-73.96\"/>\n<polygon fill=\"black\" stroke=\"black\" points=\"455.5,-74.04 459,-84.04 462.5,-74.04 455.5,-74.04\"/>\n</g>\n<!-- &#45;54230177687526085 -->\n<g id=\"node14\" class=\"node\">\n<title>-54230177687526085</title>\n<ellipse fill=\"none\" stroke=\"black\" cx=\"531\" cy=\"-24.05\" rx=\"24.1\" ry=\"24.1\"/>\n<text text-anchor=\"middle\" x=\"531\" y=\"-20.35\" font-family=\"Helvetica,sans-Serif\" font-size=\"14.00\">inc</text>\n</g>\n<!-- &#45;54230177687526085&#45;&gt;&#45;2420848870745026817 -->\n<g id=\"edge13\" class=\"edge\">\n<title>-54230177687526085-&gt;-2420848870745026817</title>\n<path fill=\"none\" stroke=\"black\" d=\"M531,-48.28C531,-56.39 531,-65.56 531,-73.96\"/>\n<polygon fill=\"black\" stroke=\"black\" points=\"527.5,-74.04 531,-84.04 534.5,-74.04 527.5,-74.04\"/>\n</g>\n<!-- 1883793462622425162 -->\n<g id=\"node15\" class=\"node\">\n<title>1883793462622425162</title>\n<ellipse fill=\"none\" stroke=\"black\" cx=\"243\" cy=\"-24.05\" rx=\"24.1\" ry=\"24.1\"/>\n<text text-anchor=\"middle\" x=\"243\" y=\"-20.35\" font-family=\"Helvetica,sans-Serif\" font-size=\"14.00\">inc</text>\n</g>\n<!-- 1883793462622425162&#45;&gt;8416983202166473680 -->\n<g id=\"edge14\" class=\"edge\">\n<title>1883793462622425162-&gt;8416983202166473680</title>\n<path fill=\"none\" stroke=\"black\" d=\"M243,-48.28C243,-56.39 243,-65.56 243,-73.96\"/>\n<polygon fill=\"black\" stroke=\"black\" points=\"239.5,-74.04 243,-84.04 246.5,-74.04 239.5,-74.04\"/>\n</g>\n<!-- &#45;737302150958115650 -->\n<g id=\"node16\" class=\"node\">\n<title>-737302150958115650</title>\n<ellipse fill=\"none\" stroke=\"black\" cx=\"27\" cy=\"-24.05\" rx=\"24.1\" ry=\"24.1\"/>\n<text text-anchor=\"middle\" x=\"27\" y=\"-20.35\" font-family=\"Helvetica,sans-Serif\" font-size=\"14.00\">inc</text>\n</g>\n<!-- &#45;737302150958115650&#45;&gt;&#45;2449875758952439744 -->\n<g id=\"edge15\" class=\"edge\">\n<title>-737302150958115650-&gt;-2449875758952439744</title>\n<path fill=\"none\" stroke=\"black\" d=\"M27,-48.28C27,-56.39 27,-65.56 27,-73.96\"/>\n<polygon fill=\"black\" stroke=\"black\" points=\"23.5,-74.04 27,-84.04 30.5,-74.04 23.5,-74.04\"/>\n</g>\n<!-- &#45;75266670522053281 -->\n<g id=\"node17\" class=\"node\">\n<title>-75266670522053281</title>\n<ellipse fill=\"none\" stroke=\"black\" cx=\"171\" cy=\"-24.05\" rx=\"24.1\" ry=\"24.1\"/>\n<text text-anchor=\"middle\" x=\"171\" y=\"-20.35\" font-family=\"Helvetica,sans-Serif\" font-size=\"14.00\">inc</text>\n</g>\n<!-- &#45;75266670522053281&#45;&gt;9071540844813480934 -->\n<g id=\"edge16\" class=\"edge\">\n<title>-75266670522053281-&gt;9071540844813480934</title>\n<path fill=\"none\" stroke=\"black\" d=\"M171,-48.28C171,-56.39 171,-65.56 171,-73.96\"/>\n<polygon fill=\"black\" stroke=\"black\" points=\"167.5,-74.04 171,-84.04 174.5,-74.04 167.5,-74.04\"/>\n</g>\n<!-- 93691508218441202 -->\n<g id=\"node18\" class=\"node\">\n<title>93691508218441202</title>\n<ellipse fill=\"none\" stroke=\"black\" cx=\"99\" cy=\"-24.05\" rx=\"24.1\" ry=\"24.1\"/>\n<text text-anchor=\"middle\" x=\"99\" y=\"-20.35\" font-family=\"Helvetica,sans-Serif\" font-size=\"14.00\">inc</text>\n</g>\n<!-- 93691508218441202&#45;&gt;&#45;9116275356503140448 -->\n<g id=\"edge17\" class=\"edge\">\n<title>93691508218441202-&gt;-9116275356503140448</title>\n<path fill=\"none\" stroke=\"black\" d=\"M99,-48.28C99,-56.39 99,-65.56 99,-73.96\"/>\n<polygon fill=\"black\" stroke=\"black\" points=\"95.5,-74.04 99,-84.04 102.5,-74.04 95.5,-74.04\"/>\n</g>\n</g>\n</svg>",
      "text/plain": [
       "<IPython.core.display.SVG object>"
      ]
     },
     "execution_count": 13,
     "metadata": {},
     "output_type": "execute_result"
    }
   ],
   "source": [
    "# Look at the task graph for `total`\n",
    "total.visualize(filename='demo2.svg')"
   ]
  },
  {
   "cell_type": "markdown",
   "id": "864e84b6",
   "metadata": {},
   "source": [
    "### Parallelize a for loop with control flow"
   ]
  },
  {
   "cell_type": "code",
   "execution_count": 14,
   "id": "8c8cd5e4",
   "metadata": {},
   "outputs": [],
   "source": [
    "def double(x):\n",
    "    sleep(1)\n",
    "    return 2 * x\n",
    "\n",
    "def is_even(x):\n",
    "    return not x % 2\n",
    "\n",
    "data = [1, 2, 3, 4, 5, 6, 7, 8, 9, 10]\n"
   ]
  },
  {
   "cell_type": "code",
   "execution_count": 15,
   "id": "fc40c7b6",
   "metadata": {},
   "outputs": [
    {
     "name": "stdout",
     "output_type": "stream",
     "text": [
      "90\n",
      "CPU times: user 1.83 ms, sys: 262 µs, total: 2.09 ms\n",
      "Wall time: 10 s\n"
     ]
    }
   ],
   "source": [
    "%%time\n",
    "# Sequential code\n",
    "\n",
    "results = []\n",
    "for x in data:\n",
    "    if is_even(x):\n",
    "        y = double(x)\n",
    "    else:\n",
    "        y = inc(x)\n",
    "    results.append(y)\n",
    "\n",
    "total = sum(results)\n",
    "print(total)"
   ]
  },
  {
   "cell_type": "code",
   "execution_count": 16,
   "id": "206ded04",
   "metadata": {},
   "outputs": [
    {
     "name": "stdout",
     "output_type": "stream",
     "text": [
      "CPU times: user 5.96 ms, sys: 275 µs, total: 6.24 ms\n",
      "Wall time: 2.93 ms\n"
     ]
    }
   ],
   "source": [
    "%%time\n",
    "results = []\n",
    "for x in data:\n",
    "    if is_even(x):  # even\n",
    "        y = delayed(double)(x)\n",
    "    else:          # odd\n",
    "        y = delayed(inc)(x)\n",
    "    results.append(y)\n",
    "\n",
    "total = delayed(sum)(results)"
   ]
  },
  {
   "cell_type": "code",
   "execution_count": 17,
   "id": "41a9e567",
   "metadata": {},
   "outputs": [
    {
     "name": "stdout",
     "output_type": "stream",
     "text": [
      "CPU times: user 0 ns, sys: 8.36 ms, total: 8.36 ms\n",
      "Wall time: 2.01 s\n"
     ]
    },
    {
     "data": {
      "text/plain": [
       "90"
      ]
     },
     "execution_count": 17,
     "metadata": {},
     "output_type": "execute_result"
    }
   ],
   "source": [
    "%time total.compute()"
   ]
  },
  {
   "cell_type": "code",
   "execution_count": 18,
   "id": "ea208f5c",
   "metadata": {},
   "outputs": [
    {
     "data": {
      "image/svg+xml": "<svg xmlns=\"http://www.w3.org/2000/svg\" xmlns:xlink=\"http://www.w3.org/1999/xlink\" width=\"828pt\" height=\"332pt\" viewBox=\"0.00 0.00 827.64 332.29\">\n<g id=\"graph0\" class=\"graph\" transform=\"scale(1 1) rotate(0) translate(4 328.29)\">\n<title>%3</title>\n<polygon fill=\"white\" stroke=\"transparent\" points=\"-4,4 -4,-328.29 823.64,-328.29 823.64,4 -4,4\"/>\n<!-- 4041129345254572063 -->\n<g id=\"node1\" class=\"node\">\n<title>4041129345254572063</title>\n<ellipse fill=\"none\" stroke=\"black\" cx=\"401.6\" cy=\"-221.74\" rx=\"30.59\" ry=\"30.59\"/>\n<text text-anchor=\"middle\" x=\"401.6\" y=\"-218.04\" font-family=\"Helvetica,sans-Serif\" font-size=\"14.00\">sum</text>\n</g>\n<!-- &#45;4568786576774058305 -->\n<g id=\"node2\" class=\"node\">\n<title>-4568786576774058305</title>\n<polygon fill=\"none\" stroke=\"black\" points=\"428.6,-324.29 374.6,-324.29 374.6,-288.29 428.6,-288.29 428.6,-324.29\"/>\n</g>\n<!-- 4041129345254572063&#45;&gt;&#45;4568786576774058305 -->\n<g id=\"edge1\" class=\"edge\">\n<title>4041129345254572063-&gt;-4568786576774058305</title>\n<path fill=\"none\" stroke=\"black\" d=\"M401.6,-252.54C401.6,-260.89 401.6,-269.92 401.6,-278.11\"/>\n<polygon fill=\"black\" stroke=\"black\" points=\"398.1,-278.26 401.6,-288.26 405.1,-278.26 398.1,-278.26\"/>\n</g>\n<!-- &#45;5453459515970872832 -->\n<g id=\"node3\" class=\"node\">\n<title>-5453459515970872832</title>\n<polygon fill=\"none\" stroke=\"black\" points=\"75.6,-155.19 21.6,-155.19 21.6,-119.19 75.6,-119.19 75.6,-155.19\"/>\n</g>\n<!-- &#45;5453459515970872832&#45;&gt;4041129345254572063 -->\n<g id=\"edge2\" class=\"edge\">\n<title>-5453459515970872832-&gt;4041129345254572063</title>\n<path fill=\"none\" stroke=\"black\" d=\"M75.91,-150.06C80.75,-151.93 85.78,-153.72 90.6,-155.19 185.69,-184.21 300.99,-204.85 360.94,-214.53\"/>\n<polygon fill=\"black\" stroke=\"black\" points=\"360.7,-218.04 371.12,-216.16 361.8,-211.13 360.7,-218.04\"/>\n</g>\n<!-- 1375082468125972898 -->\n<g id=\"node4\" class=\"node\">\n<title>1375082468125972898</title>\n<polygon fill=\"none\" stroke=\"black\" points=\"153.6,-155.19 99.6,-155.19 99.6,-119.19 153.6,-119.19 153.6,-155.19\"/>\n</g>\n<!-- 1375082468125972898&#45;&gt;4041129345254572063 -->\n<g id=\"edge3\" class=\"edge\">\n<title>1375082468125972898-&gt;4041129345254572063</title>\n<path fill=\"none\" stroke=\"black\" d=\"M153.92,-149.2C159.41,-151.28 165.16,-153.38 170.6,-155.19 237.13,-177.43 316,-198.76 362.25,-210.76\"/>\n<polygon fill=\"black\" stroke=\"black\" points=\"361.6,-214.21 372.16,-213.32 363.35,-207.43 361.6,-214.21\"/>\n</g>\n<!-- &#45;6559457593395463197 -->\n<g id=\"node5\" class=\"node\">\n<title>-6559457593395463197</title>\n<polygon fill=\"none\" stroke=\"black\" points=\"233.6,-155.19 179.6,-155.19 179.6,-119.19 233.6,-119.19 233.6,-155.19\"/>\n</g>\n<!-- &#45;6559457593395463197&#45;&gt;4041129345254572063 -->\n<g id=\"edge4\" class=\"edge\">\n<title>-6559457593395463197-&gt;4041129345254572063</title>\n<path fill=\"none\" stroke=\"black\" d=\"M233.85,-150.13C237.79,-151.84 241.79,-153.57 245.6,-155.19 286.1,-172.53 332.69,-192.05 364.33,-205.25\"/>\n<polygon fill=\"black\" stroke=\"black\" points=\"363.07,-208.51 373.65,-209.13 365.77,-202.05 363.07,-208.51\"/>\n</g>\n<!-- &#45;7941958595933204860 -->\n<g id=\"node6\" class=\"node\">\n<title>-7941958595933204860</title>\n<polygon fill=\"none\" stroke=\"black\" points=\"308.6,-155.19 254.6,-155.19 254.6,-119.19 308.6,-119.19 308.6,-155.19\"/>\n</g>\n<!-- &#45;7941958595933204860&#45;&gt;4041129345254572063 -->\n<g id=\"edge5\" class=\"edge\">\n<title>-7941958595933204860-&gt;4041129345254572063</title>\n<path fill=\"none\" stroke=\"black\" d=\"M306.46,-155.3C324.4,-167.64 348.81,-184.43 368.41,-197.91\"/>\n<polygon fill=\"black\" stroke=\"black\" points=\"366.54,-200.87 376.76,-203.66 370.51,-195.11 366.54,-200.87\"/>\n</g>\n<!-- &#45;8727279573495177491 -->\n<g id=\"node7\" class=\"node\">\n<title>-8727279573495177491</title>\n<polygon fill=\"none\" stroke=\"black\" points=\"389.6,-155.19 335.6,-155.19 335.6,-119.19 389.6,-119.19 389.6,-155.19\"/>\n</g>\n<!-- &#45;8727279573495177491&#45;&gt;4041129345254572063 -->\n<g id=\"edge6\" class=\"edge\">\n<title>-8727279573495177491-&gt;4041129345254572063</title>\n<path fill=\"none\" stroke=\"black\" d=\"M370.68,-155.3C374.71,-163.83 379.75,-174.49 384.58,-184.71\"/>\n<polygon fill=\"black\" stroke=\"black\" points=\"381.48,-186.36 388.92,-193.91 387.81,-183.37 381.48,-186.36\"/>\n</g>\n<!-- &#45;3912365055671440018 -->\n<g id=\"node8\" class=\"node\">\n<title>-3912365055671440018</title>\n<polygon fill=\"none\" stroke=\"black\" points=\"467.6,-155.19 413.6,-155.19 413.6,-119.19 467.6,-119.19 467.6,-155.19\"/>\n</g>\n<!-- &#45;3912365055671440018&#45;&gt;4041129345254572063 -->\n<g id=\"edge7\" class=\"edge\">\n<title>-3912365055671440018-&gt;4041129345254572063</title>\n<path fill=\"none\" stroke=\"black\" d=\"M432.52,-155.3C428.48,-163.83 423.45,-174.49 418.62,-184.71\"/>\n<polygon fill=\"black\" stroke=\"black\" points=\"415.38,-183.37 414.27,-193.91 421.71,-186.36 415.38,-183.37\"/>\n</g>\n<!-- 754957487250381840 -->\n<g id=\"node9\" class=\"node\">\n<title>754957487250381840</title>\n<polygon fill=\"none\" stroke=\"black\" points=\"556.6,-155.19 502.6,-155.19 502.6,-119.19 556.6,-119.19 556.6,-155.19\"/>\n</g>\n<!-- 754957487250381840&#45;&gt;4041129345254572063 -->\n<g id=\"edge8\" class=\"edge\">\n<title>754957487250381840-&gt;4041129345254572063</title>\n<path fill=\"none\" stroke=\"black\" d=\"M503.07,-155.3C483.6,-167.86 456.97,-185.03 435.87,-198.63\"/>\n<polygon fill=\"black\" stroke=\"black\" points=\"433.72,-195.86 427.21,-204.22 437.51,-201.74 433.72,-195.86\"/>\n</g>\n<!-- &#45;5156362728838024042 -->\n<g id=\"node10\" class=\"node\">\n<title>-5156362728838024042</title>\n<polygon fill=\"none\" stroke=\"black\" points=\"651.6,-155.19 597.6,-155.19 597.6,-119.19 651.6,-119.19 651.6,-155.19\"/>\n</g>\n<!-- &#45;5156362728838024042&#45;&gt;4041129345254572063 -->\n<g id=\"edge9\" class=\"edge\">\n<title>-5156362728838024042-&gt;4041129345254572063</title>\n<path fill=\"none\" stroke=\"black\" d=\"M597.25,-148.31C557.79,-162.92 484.69,-189.98 439.88,-206.57\"/>\n<polygon fill=\"black\" stroke=\"black\" points=\"438.39,-203.39 430.22,-210.14 440.82,-209.95 438.39,-203.39\"/>\n</g>\n<!-- &#45;6877127928037479529 -->\n<g id=\"node11\" class=\"node\">\n<title>-6877127928037479529</title>\n<polygon fill=\"none\" stroke=\"black\" points=\"738.6,-155.19 684.6,-155.19 684.6,-119.19 738.6,-119.19 738.6,-155.19\"/>\n</g>\n<!-- &#45;6877127928037479529&#45;&gt;4041129345254572063 -->\n<g id=\"edge10\" class=\"edge\">\n<title>-6877127928037479529-&gt;4041129345254572063</title>\n<path fill=\"none\" stroke=\"black\" d=\"M684.45,-147.65C676.78,-150.22 668.39,-152.91 660.6,-155.19 583.55,-177.75 492.3,-199.77 441.27,-211.66\"/>\n<polygon fill=\"black\" stroke=\"black\" points=\"440.26,-208.3 431.31,-213.97 441.84,-215.12 440.26,-208.3\"/>\n</g>\n<!-- &#45;6364102858902336482 -->\n<g id=\"node12\" class=\"node\">\n<title>-6364102858902336482</title>\n<polygon fill=\"none\" stroke=\"black\" points=\"817.6,-155.19 763.6,-155.19 763.6,-119.19 817.6,-119.19 817.6,-155.19\"/>\n</g>\n<!-- &#45;6364102858902336482&#45;&gt;4041129345254572063 -->\n<g id=\"edge11\" class=\"edge\">\n<title>-6364102858902336482-&gt;4041129345254572063</title>\n<path fill=\"none\" stroke=\"black\" d=\"M763.57,-149.77C758.33,-151.76 752.84,-153.67 747.6,-155.19 639.4,-186.52 507.72,-206.71 442.41,-215.56\"/>\n<polygon fill=\"black\" stroke=\"black\" points=\"441.58,-212.14 432.13,-216.94 442.51,-219.08 441.58,-212.14\"/>\n</g>\n<!-- &#45;2376633118901524503 -->\n<g id=\"node13\" class=\"node\">\n<title>-2376633118901524503</title>\n<ellipse fill=\"none\" stroke=\"black\" cx=\"191.6\" cy=\"-41.6\" rx=\"24.1\" ry=\"24.1\"/>\n<text text-anchor=\"middle\" x=\"191.6\" y=\"-37.9\" font-family=\"Helvetica,sans-Serif\" font-size=\"14.00\">inc</text>\n</g>\n<!-- &#45;2376633118901524503&#45;&gt;&#45;6559457593395463197 -->\n<g id=\"edge12\" class=\"edge\">\n<title>-2376633118901524503-&gt;-6559457593395463197</title>\n<path fill=\"none\" stroke=\"black\" d=\"M195.3,-65.73C197.39,-78.72 199.99,-95 202.18,-108.64\"/>\n<polygon fill=\"black\" stroke=\"black\" points=\"198.79,-109.58 203.83,-118.9 205.7,-108.48 198.79,-109.58\"/>\n</g>\n<!-- &#45;5242310346841386494 -->\n<g id=\"node14\" class=\"node\">\n<title>-5242310346841386494</title>\n<ellipse fill=\"none\" stroke=\"black\" cx=\"41.6\" cy=\"-41.6\" rx=\"41.69\" ry=\"41.69\"/>\n<text text-anchor=\"middle\" x=\"41.6\" y=\"-37.9\" font-family=\"Helvetica,sans-Serif\" font-size=\"14.00\">double</text>\n</g>\n<!-- &#45;5242310346841386494&#45;&gt;&#45;5453459515970872832 -->\n<g id=\"edge13\" class=\"edge\">\n<title>-5242310346841386494-&gt;-5453459515970872832</title>\n<path fill=\"none\" stroke=\"black\" d=\"M44.63,-83.1C45.28,-91.9 45.96,-100.99 46.57,-109.12\"/>\n<polygon fill=\"black\" stroke=\"black\" points=\"43.08,-109.42 47.32,-119.13 50.06,-108.9 43.08,-109.42\"/>\n</g>\n<!-- 7260362882097349578 -->\n<g id=\"node15\" class=\"node\">\n<title>7260362882097349578</title>\n<ellipse fill=\"none\" stroke=\"black\" cx=\"795.6\" cy=\"-41.6\" rx=\"24.1\" ry=\"24.1\"/>\n<text text-anchor=\"middle\" x=\"795.6\" y=\"-37.9\" font-family=\"Helvetica,sans-Serif\" font-size=\"14.00\">inc</text>\n</g>\n<!-- 7260362882097349578&#45;&gt;&#45;6364102858902336482 -->\n<g id=\"edge14\" class=\"edge\">\n<title>7260362882097349578-&gt;-6364102858902336482</title>\n<path fill=\"none\" stroke=\"black\" d=\"M794.36,-65.73C793.67,-78.72 792.8,-95 792.07,-108.64\"/>\n<polygon fill=\"black\" stroke=\"black\" points=\"788.56,-108.73 791.52,-118.9 795.55,-109.1 788.56,-108.73\"/>\n</g>\n<!-- &#45;2879172342385460770 -->\n<g id=\"node16\" class=\"node\">\n<title>-2879172342385460770</title>\n<ellipse fill=\"none\" stroke=\"black\" cx=\"645.6\" cy=\"-41.6\" rx=\"41.69\" ry=\"41.69\"/>\n<text text-anchor=\"middle\" x=\"645.6\" y=\"-37.9\" font-family=\"Helvetica,sans-Serif\" font-size=\"14.00\">double</text>\n</g>\n<!-- &#45;2879172342385460770&#45;&gt;&#45;5156362728838024042 -->\n<g id=\"edge15\" class=\"edge\">\n<title>-2879172342385460770-&gt;-5156362728838024042</title>\n<path fill=\"none\" stroke=\"black\" d=\"M636.69,-82.29C634.68,-91.26 632.59,-100.58 630.72,-108.9\"/>\n<polygon fill=\"black\" stroke=\"black\" points=\"627.27,-108.28 628.5,-118.81 634.1,-109.82 627.27,-108.28\"/>\n</g>\n<!-- &#45;6487380862090860601 -->\n<g id=\"node17\" class=\"node\">\n<title>-6487380862090860601</title>\n<ellipse fill=\"none\" stroke=\"black\" cx=\"125.6\" cy=\"-41.6\" rx=\"24.1\" ry=\"24.1\"/>\n<text text-anchor=\"middle\" x=\"125.6\" y=\"-37.9\" font-family=\"Helvetica,sans-Serif\" font-size=\"14.00\">inc</text>\n</g>\n<!-- &#45;6487380862090860601&#45;&gt;1375082468125972898 -->\n<g id=\"edge16\" class=\"edge\">\n<title>-6487380862090860601-&gt;1375082468125972898</title>\n<path fill=\"none\" stroke=\"black\" d=\"M125.84,-65.73C125.98,-78.72 126.16,-95 126.3,-108.64\"/>\n<polygon fill=\"black\" stroke=\"black\" points=\"122.8,-108.94 126.41,-118.9 129.8,-108.87 122.8,-108.94\"/>\n</g>\n<!-- 6480206041683405466 -->\n<g id=\"node18\" class=\"node\">\n<title>6480206041683405466</title>\n<ellipse fill=\"none\" stroke=\"black\" cx=\"275.6\" cy=\"-41.6\" rx=\"41.69\" ry=\"41.69\"/>\n<text text-anchor=\"middle\" x=\"275.6\" y=\"-37.9\" font-family=\"Helvetica,sans-Serif\" font-size=\"14.00\">double</text>\n</g>\n<!-- 6480206041683405466&#45;&gt;&#45;7941958595933204860 -->\n<g id=\"edge17\" class=\"edge\">\n<title>6480206041683405466-&gt;-7941958595933204860</title>\n<path fill=\"none\" stroke=\"black\" d=\"M278.21,-83.38C278.76,-91.91 279.32,-100.72 279.83,-108.63\"/>\n<polygon fill=\"black\" stroke=\"black\" points=\"276.35,-109.01 280.48,-118.77 283.33,-108.57 276.35,-109.01\"/>\n</g>\n<!-- &#45;8809005372189532046 -->\n<g id=\"node19\" class=\"node\">\n<title>-8809005372189532046</title>\n<ellipse fill=\"none\" stroke=\"black\" cx=\"359.6\" cy=\"-41.6\" rx=\"24.1\" ry=\"24.1\"/>\n<text text-anchor=\"middle\" x=\"359.6\" y=\"-37.9\" font-family=\"Helvetica,sans-Serif\" font-size=\"14.00\">inc</text>\n</g>\n<!-- &#45;8809005372189532046&#45;&gt;&#45;8727279573495177491 -->\n<g id=\"edge18\" class=\"edge\">\n<title>-8809005372189532046-&gt;-8727279573495177491</title>\n<path fill=\"none\" stroke=\"black\" d=\"M360.34,-65.73C360.75,-78.72 361.28,-95 361.71,-108.64\"/>\n<polygon fill=\"black\" stroke=\"black\" points=\"358.22,-109.02 362.04,-118.9 365.22,-108.8 358.22,-109.02\"/>\n</g>\n<!-- 2212098885649572422 -->\n<g id=\"node20\" class=\"node\">\n<title>2212098885649572422</title>\n<ellipse fill=\"none\" stroke=\"black\" cx=\"443.6\" cy=\"-41.6\" rx=\"41.69\" ry=\"41.69\"/>\n<text text-anchor=\"middle\" x=\"443.6\" y=\"-37.9\" font-family=\"Helvetica,sans-Serif\" font-size=\"14.00\">double</text>\n</g>\n<!-- 2212098885649572422&#45;&gt;&#45;3912365055671440018 -->\n<g id=\"edge19\" class=\"edge\">\n<title>2212098885649572422-&gt;-3912365055671440018</title>\n<path fill=\"none\" stroke=\"black\" d=\"M442.29,-83.38C442.02,-91.91 441.73,-100.72 441.48,-108.63\"/>\n<polygon fill=\"black\" stroke=\"black\" points=\"437.98,-108.66 441.15,-118.77 444.97,-108.89 437.98,-108.66\"/>\n</g>\n<!-- 8771750246589494880 -->\n<g id=\"node21\" class=\"node\">\n<title>8771750246589494880</title>\n<ellipse fill=\"none\" stroke=\"black\" cx=\"729.6\" cy=\"-41.6\" rx=\"24.1\" ry=\"24.1\"/>\n<text text-anchor=\"middle\" x=\"729.6\" y=\"-37.9\" font-family=\"Helvetica,sans-Serif\" font-size=\"14.00\">inc</text>\n</g>\n<!-- 8771750246589494880&#45;&gt;&#45;6877127928037479529 -->\n<g id=\"edge20\" class=\"edge\">\n<title>8771750246589494880-&gt;-6877127928037479529</title>\n<path fill=\"none\" stroke=\"black\" d=\"M725.24,-65.25C722.7,-78.45 719.49,-95.16 716.82,-109.05\"/>\n<polygon fill=\"black\" stroke=\"black\" points=\"713.35,-108.54 714.9,-119.02 720.22,-109.86 713.35,-108.54\"/>\n</g>\n<!-- &#45;2558225504503688277 -->\n<g id=\"node22\" class=\"node\">\n<title>-2558225504503688277</title>\n<ellipse fill=\"none\" stroke=\"black\" cx=\"544.6\" cy=\"-41.6\" rx=\"41.69\" ry=\"41.69\"/>\n<text text-anchor=\"middle\" x=\"544.6\" y=\"-37.9\" font-family=\"Helvetica,sans-Serif\" font-size=\"14.00\">double</text>\n</g>\n<!-- &#45;2558225504503688277&#45;&gt;754957487250381840 -->\n<g id=\"edge21\" class=\"edge\">\n<title>-2558225504503688277-&gt;754957487250381840</title>\n<path fill=\"none\" stroke=\"black\" d=\"M538.15,-82.83C536.73,-91.65 535.27,-100.79 533.96,-108.96\"/>\n<polygon fill=\"black\" stroke=\"black\" points=\"530.47,-108.6 532.35,-119.03 537.39,-109.71 530.47,-108.6\"/>\n</g>\n</g>\n</svg>",
      "text/plain": [
       "<IPython.core.display.SVG object>"
      ]
     },
     "execution_count": 18,
     "metadata": {},
     "output_type": "execute_result"
    }
   ],
   "source": [
    "total.visualize(filename='demo3.svg')"
   ]
  }
 ],
 "metadata": {
  "kernelspec": {
   "display_name": "Python 3.8.5 ('dask')",
   "language": "python",
   "name": "python3"
  },
  "language_info": {
   "codemirror_mode": {
    "name": "ipython",
    "version": 3
   },
   "file_extension": ".py",
   "mimetype": "text/x-python",
   "name": "python",
   "nbconvert_exporter": "python",
   "pygments_lexer": "ipython3",
   "version": "3.8.5"
  },
  "vscode": {
   "interpreter": {
    "hash": "fb1a9631e3e65a2ec2250b76ac73c8e28febe8e902a7ba7274eb5c25206a50f4"
   }
  }
 },
 "nbformat": 4,
 "nbformat_minor": 5
}
